{
 "cells": [
  {
   "cell_type": "markdown",
   "id": "d52e23e1-7097-460f-9049-b738d3ed4020",
   "metadata": {},
   "source": [
    "## 1. Extracting Insights from Customer Data\n",
    "\n",
    "### Question:\n",
    "Write a function to calculate the total number of orders from a list of customer data."
   ]
  },
  {
   "cell_type": "code",
   "execution_count": 2,
   "id": "73b6f81d-3b42-45cf-a6c0-16634839dc4e",
   "metadata": {},
   "outputs": [],
   "source": [
    "def get_total_orders(customer_list):\n",
    "    total_orders = 0\n",
    "    for customer in customer_list:\n",
    "        total_orders += len(customer['orders'])\n",
    "    return total_orders"
   ]
  },
  {
   "cell_type": "markdown",
   "id": "b2c5cc3b-e13e-44c5-b4bd-dd404da63bf1",
   "metadata": {},
   "source": [
    "## 3. Inventory Revenue Calculation\n",
    "\n",
    "### Question:\n",
    "Write a function to calculate the total revenue from an inventory list that includes product quantities and prices."
   ]
  },
  {
   "cell_type": "code",
   "execution_count": 3,
   "id": "ddbd8337-3026-4650-8a77-cfeaf5d51e2e",
   "metadata": {},
   "outputs": [],
   "source": [
    "def calculate_total_revenue(inventory):\n",
    "    revenue = 0\n",
    "    for product in inventory:\n",
    "        revenue += product['quantity'] * product['price']\n",
    "    return revenue\n"
   ]
  },
  {
   "cell_type": "markdown",
   "id": "697ca4a5-2867-4ea6-a599-9065b47f72cf",
   "metadata": {},
   "source": [
    "## 14. Employee Salary Calculation\n",
    "\n",
    "### Question:\n",
    "Calculate the salaries of employees based on hours worked and hourly rate, storing the results in a dictionary."
   ]
  },
  {
   "cell_type": "code",
   "execution_count": 6,
   "id": "fe5219d2-187d-4cf3-b26b-cd52a96a356a",
   "metadata": {},
   "outputs": [],
   "source": [
    "def calculateSalary(employees):\n",
    "    salaries = {}\n",
    "    for employee in employees:\n",
    "        employee_id = employee['employee_id']\n",
    "        salary = employee['hours_worked'] * employee['hourly_rate']\n",
    "        salaries[employee_id] = salary\n",
    "    return salaries\n"
   ]
  },
  {
   "cell_type": "markdown",
   "id": "8adcf4dc-3ec1-4747-a671-9402ee450ebb",
   "metadata": {},
   "source": [
    "## 15. Task Completion Progress\n",
    "### Question:\n",
    "Identify incomplete tasks that are still in progress, based on their completion percentage, and store their descriptions in a list."
   ]
  },
  {
   "cell_type": "code",
   "execution_count": 8,
   "id": "f7cf5004-e230-4350-8322-a9a0b787b9ce",
   "metadata": {},
   "outputs": [],
   "source": [
    "def findIncompleteTasks(tasks):\n",
    "    incomplete_tasks = []\n",
    "    for task in tasks:\n",
    "        if task['status'] == 'In Progress' and task['completed_percent'] <= 100:\n",
    "            incomplete_tasks.append(task['description'])\n",
    "    return incomplete_tasks"
   ]
  },
  {
   "cell_type": "markdown",
   "id": "6537c302-7ffb-43a3-bb27-1069a6408e73",
   "metadata": {},
   "source": [
    "## 16. User Activity Tracking\n",
    "\n",
    "### Question:\n",
    "Calculate user engagement by summing likes and comments for each user from a list of user activity data."
   ]
  },
  {
   "cell_type": "code",
   "execution_count": 9,
   "id": "a2cd9f9e-031d-4f2b-aa23-e1b657f48f07",
   "metadata": {},
   "outputs": [],
   "source": [
    "def calcUserEngagement(user_activity):\n",
    "    user_engagement = {}\n",
    "    for user in user_activity:\n",
    "        user_engagement[user['user_id']] = user['likes'] + user['comments']\n",
    "    return user_engagement"
   ]
  },
  {
   "cell_type": "code",
   "execution_count": null,
   "id": "06a187a6-378f-4a66-8b78-42a5577c7f4e",
   "metadata": {},
   "outputs": [],
   "source": []
  }
 ],
 "metadata": {
  "kernelspec": {
   "display_name": "Python 3 (ipykernel)",
   "language": "python",
   "name": "python3"
  },
  "language_info": {
   "codemirror_mode": {
    "name": "ipython",
    "version": 3
   },
   "file_extension": ".py",
   "mimetype": "text/x-python",
   "name": "python",
   "nbconvert_exporter": "python",
   "pygments_lexer": "ipython3",
   "version": "3.12.8"
  }
 },
 "nbformat": 4,
 "nbformat_minor": 5
}
