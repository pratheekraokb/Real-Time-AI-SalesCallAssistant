{
 "cells": [
  {
   "cell_type": "markdown",
   "metadata": {
    "_kg_hide-input": false
   },
   "source": [
    "# <p style=\"background-color:#5DA688;font-family:sans-serif;color:#FFFFFF;font-size:180%;text-align:center;border-radius:12px 12px;\">Lead Scoring Project</p>\n",
    "**Author: Marcelo Cruz**<br>\n",
    "Feel free to contact me: \n",
    "https://www.linkedin.com/in/marcelo-cruz-segura"
   ]
  },
  {
   "cell_type": "markdown",
   "metadata": {},
   "source": [
    "# Table of Content\n",
    "* [1. Problem Context](#1)\n",
    "\n",
    "* [2. Prepare Work Enviroment](#2)\n",
    "\n",
    "* [3. Load and inspect data](#3)\n",
    "\n",
    "* [4. Data cleaning & Feature Engineering](#4)\n",
    "\n",
    "* [5. Explore missing values](#5)\n",
    "\n",
    "* [6. Exploratory Data Analysis](#6)\n",
    "\n",
    "* [7. Data Wrangling](#7)\n",
    "\n",
    "* [8. Modeling](#8)\n",
    "\n",
    "* [9. Select the best models and tune them](#9)\n",
    "\n",
    "* [10. Make our predictions](#10)\n",
    "\n",
    "* [11. Conclusions](#11)"
   ]
  },
  {
   "cell_type": "markdown",
   "metadata": {},
   "source": [
    "<img src='https://raw.githubusercontent.com/CeloCruz/LeadScoring/main/Lead%20Scoring%20(1).png'>"
   ]
  },
  {
   "cell_type": "markdown",
   "metadata": {
    "id": "wegwJNhEb5ng"
   },
   "source": [
    "<a id=\"1\"></a>\n",
    "# <p style=\"background-color:#5DA688;font-family:sans-serif;color:#FFFFFF;font-size:140%;text-align:left;border-radius:8px 8px;\">1. Problem Context</p>\n",
    "Lead scoring is a process of assigning scores to prospects based on their profile and behavioral data in order to prioritize leads, improve close rates, and decrease buying cycles.\n",
    "\n",
    "An education company named X Education sells online courses to industry professionals. On any given day, many professionals who are interested in the courses land on their website and browse for courses.\n",
    "\n",
    "The company markets its courses on several websites and search engines like Google. Once these people land on the website, they might browse the courses or fill up a form for the course or watch some videos. When these people fill up a form providing their email address or phone number, they are classified to be a lead. Moreover, the company also gets leads through past referrals. Once these leads are acquired, employees from the sales team start making calls, writing emails, etc. Through this process, some of the leads get converted while most do not.\n",
    "\n",
    "**The typical lead conversion rate at X education is around 30%.**\n",
    "\n",
    "Now, although X Education gets a lot of leads, its lead conversion rate is very poor. To make this process more efficient, **the company wishes to identify the most potential leads, also known as ‘Hot Leads’**.\n",
    "\n",
    "If they successfully identify this set of leads, the lead conversion rate should go up as the sales team will now be focusing more on communicating with the potential leads rather than making calls to everyone.\n",
    "\n",
    "There are a lot of leads generated in the initial stage (top) but only a few of them come out as paying customers from the bottom. In the middle stage, you need to nurture the potential leads well (i.e. educating the leads about the product, constantly communicating, etc. ) in order to get a higher lead conversion.\n",
    "\n",
    "## 1.1. Business Goal\n",
    "* **Goal from a business perspective**:<br>\n",
    "X Education wants to select the most promising leads, i.e. the leads that are most likely to convert into paying customers. The company requires you to build a model wherein you need to assign a lead score to each of the leads such that the customers with higher lead score have a higher conversion chance and the customers with lower lead score have a lower conversion chance. The CEO, in particular, has given a ballpark of the target lead conversion rate to be around 80%.\n",
    "<br>\n",
    "\n",
    "* **Goal from a Data Scientist perspective:**<br> Our mission is to build a better lead scoring model, targeting an 80% conversion rate and precision score. Using predict_proba(), we'll assess lead probabilities. This project aims to gain insights and emphasize a data-driven approach for success."
   ]
  },
  {
   "cell_type": "markdown",
   "metadata": {
    "id": "YkpZI3wC8vsg"
   },
   "source": [
    "<a id=\"2\"></a>\n",
    "# <p style=\"background-color:#5DA688;font-family:sans-serif;color:#FFFFFF;font-size:140%;text-align:left;border-radius:8px 8px;\">2. Prepare Work Enviroment</p>"
   ]
  },
  {
   "cell_type": "markdown",
   "metadata": {},
   "source": [
    "## 2.1 Import Libraries"
   ]
  },
  {
   "cell_type": "code",
   "execution_count": 1,
   "metadata": {
    "_kg_hide-input": true,
    "id": "3IiE_2kHEWfy"
   },
   "outputs": [
    {
     "ename": "ModuleNotFoundError",
     "evalue": "No module named 'plotly'",
     "output_type": "error",
     "traceback": [
      "\u001b[1;31m---------------------------------------------------------------------------\u001b[0m",
      "\u001b[1;31mModuleNotFoundError\u001b[0m                       Traceback (most recent call last)",
      "Cell \u001b[1;32mIn[1], line 5\u001b[0m\n\u001b[0;32m      3\u001b[0m \u001b[38;5;28;01mimport\u001b[39;00m \u001b[38;5;21;01mmatplotlib\u001b[39;00m\u001b[38;5;21;01m.\u001b[39;00m\u001b[38;5;21;01mpyplot\u001b[39;00m \u001b[38;5;28;01mas\u001b[39;00m \u001b[38;5;21;01mplt\u001b[39;00m\n\u001b[0;32m      4\u001b[0m \u001b[38;5;28;01mimport\u001b[39;00m \u001b[38;5;21;01mseaborn\u001b[39;00m \u001b[38;5;28;01mas\u001b[39;00m \u001b[38;5;21;01msns\u001b[39;00m\n\u001b[1;32m----> 5\u001b[0m \u001b[38;5;28;01mimport\u001b[39;00m \u001b[38;5;21;01mplotly\u001b[39;00m\u001b[38;5;21;01m.\u001b[39;00m\u001b[38;5;21;01mexpress\u001b[39;00m \u001b[38;5;28;01mas\u001b[39;00m \u001b[38;5;21;01mpx\u001b[39;00m\n\u001b[0;32m      6\u001b[0m \u001b[38;5;28;01mimport\u001b[39;00m \u001b[38;5;21;01mplotly\u001b[39;00m\u001b[38;5;21;01m.\u001b[39;00m\u001b[38;5;21;01mgraph_objects\u001b[39;00m \u001b[38;5;28;01mas\u001b[39;00m \u001b[38;5;21;01mgo\u001b[39;00m\n\u001b[0;32m      7\u001b[0m \u001b[38;5;28;01mimport\u001b[39;00m \u001b[38;5;21;01mwarnings\u001b[39;00m\n",
      "\u001b[1;31mModuleNotFoundError\u001b[0m: No module named 'plotly'"
     ]
    }
   ],
   "source": [
    "import pandas as pd\n",
    "import numpy as np\n",
    "import matplotlib.pyplot as plt\n",
    "import seaborn as sns\n",
    "import plotly.express as px\n",
    "import plotly.graph_objects as go\n",
    "import warnings\n",
    "from scipy.stats import linregress, uniform\n",
    "from sklearn.model_selection import train_test_split, cross_val_score, StratifiedKFold, RandomizedSearchCV\n",
    "from sklearn.compose import make_column_transformer, make_column_selector\n",
    "from sklearn.impute import KNNImputer, SimpleImputer\n",
    "from sklearn.preprocessing import FunctionTransformer, OneHotEncoder, StandardScaler\n",
    "from sklearn.pipeline import make_pipeline\n",
    "from sklearn.linear_model import LogisticRegression\n",
    "from sklearn.svm import SVC\n",
    "from sklearn.tree import DecisionTreeClassifier\n",
    "from sklearn.ensemble import RandomForestClassifier, GradientBoostingClassifier\n",
    "from sklearn.metrics import f1_score, recall_score, roc_auc_score, precision_score, precision_recall_curve, PrecisionRecallDisplay, confusion_matrix"
   ]
  },
  {
   "cell_type": "markdown",
   "metadata": {
    "id": "zm-6p8tkTCZk"
   },
   "source": [
    "## 2.2 Suppress Warnings & display options"
   ]
  },
  {
   "cell_type": "code",
   "execution_count": null,
   "metadata": {
    "_kg_hide-input": true,
    "id": "agTyJQA4S_qt",
    "jupyter": {
     "source_hidden": true
    }
   },
   "outputs": [],
   "source": [
    "warnings.filterwarnings('ignore')"
   ]
  },
  {
   "cell_type": "code",
   "execution_count": null,
   "metadata": {
    "id": "OAaI7rhNeFnu",
    "jupyter": {
     "source_hidden": true
    }
   },
   "outputs": [],
   "source": [
    "pd.set_option('display.max_columns', 50)\n",
    "pd.set_option('display.max_rows', 50)"
   ]
  },
  {
   "cell_type": "markdown",
   "metadata": {
    "id": "5ha8U9YV-oEp"
   },
   "source": [
    "<a id=\"3\"></a>\n",
    "# <p style=\"background-color:#5DA688;font-family:sans-serif;color:#FFFFFF;font-size:140%;text-align:left;border-radius:8px 8px;\">3. Load and inspect data</p>"
   ]
  },
  {
   "cell_type": "code",
   "execution_count": null,
   "metadata": {
    "id": "U1DMoMkE-bdl",
    "outputId": "0d2b82a2-9f5c-4e74-caac-2a00c3c459b5"
   },
   "outputs": [],
   "source": [
    "df = pd.read_csv('/kaggle/input/lead-scoring-dataset/Lead Scoring.csv')\n",
    "df.head()"
   ]
  },
  {
   "cell_type": "markdown",
   "metadata": {},
   "source": [
    "**Shape and info about the dataset**"
   ]
  },
  {
   "cell_type": "code",
   "execution_count": null,
   "metadata": {
    "execution": {
     "iopub.execute_input": "2023-10-02T12:04:05.878787Z",
     "iopub.status.busy": "2023-10-02T12:04:05.878371Z",
     "iopub.status.idle": "2023-10-02T12:04:05.884797Z",
     "shell.execute_reply": "2023-10-02T12:04:05.883715Z",
     "shell.execute_reply.started": "2023-10-02T12:04:05.878757Z"
    },
    "id": "c6B-Kf2p-mJB",
    "jupyter": {
     "source_hidden": true
    },
    "outputId": "14776154-b212-4876-b4d1-b36fc466a977"
   },
   "outputs": [],
   "source": [
    "df.shape"
   ]
  },
  {
   "cell_type": "code",
   "execution_count": null,
   "metadata": {
    "execution": {
     "iopub.execute_input": "2023-10-02T12:04:05.886332Z",
     "iopub.status.busy": "2023-10-02T12:04:05.886068Z",
     "iopub.status.idle": "2023-10-02T12:04:05.919112Z",
     "shell.execute_reply": "2023-10-02T12:04:05.917775Z",
     "shell.execute_reply.started": "2023-10-02T12:04:05.886309Z"
    },
    "id": "e9BOwTHR_64d",
    "jupyter": {
     "source_hidden": true
    },
    "outputId": "83a9cbf5-6e80-4550-93a0-d943aeeb425f"
   },
   "outputs": [],
   "source": [
    "df.info()"
   ]
  },
  {
   "cell_type": "markdown",
   "metadata": {
    "id": "kKu6K-awAjjt"
   },
   "source": [
    "Initial thoughts and action plan:\n",
    "1. "
   ]
  },
  {
   "cell_type": "markdown",
   "metadata": {
    "id": "YaKHMGkNqjWV"
   },
   "source": [
    "<div class=\"alert alert-info\" role= \"alert\">\n",
    "    <span style='font-family:sans-serif'>\n",
    "        <b>Initial thoughts and action plan: </b><br>\n",
    "            <ul>\n",
    "                <li>Check duplicates</li>\n",
    "                <li>Drop Prospect ID and Lead Number (No additional information).</li>\n",
    "                <li>Reformat columns names without space and lowercase for practicity, and change some columns name for others names more intuitive.</li>\n",
    "                <li>Seems that we got a lot of binary columns, with only yes or no values etc. Convert it in binary encoding</li>\n",
    "                <li> Use just numbers instead of the mix of strings and integers in columns: Asymmetrique Activity/Profile Index</li>\n",
    "                <li>Do some text cleaning, some columns seems to have differents formats to present the same info.</li>\n",
    "                <li>Decide what to do with all the \"Select\" data, if count it as null or assign an other category like \"Not Answered\".</li>\n",
    "                <li>Handling missing values.</li>\n",
    "    </span>    \n",
    "</div>"
   ]
  },
  {
   "cell_type": "markdown",
   "metadata": {
    "id": "JIe6wuYwFi-n"
   },
   "source": [
    "**Check if the columns specified are really binary**"
   ]
  },
  {
   "cell_type": "code",
   "execution_count": null,
   "metadata": {
    "execution": {
     "iopub.execute_input": "2023-10-02T12:04:05.922783Z",
     "iopub.status.busy": "2023-10-02T12:04:05.9218Z",
     "iopub.status.idle": "2023-10-02T12:04:06.013523Z",
     "shell.execute_reply": "2023-10-02T12:04:06.01244Z",
     "shell.execute_reply.started": "2023-10-02T12:04:05.922738Z"
    },
    "id": "eYvNsPUWGYpD",
    "jupyter": {
     "source_hidden": true
    },
    "outputId": "cd96cb33-e919-449b-e27c-b06dd63001ab"
   },
   "outputs": [],
   "source": [
    "binary_cats = ['Do Not Email','Do Not Call','Search','Magazine','Newspaper Article',\n",
    "               'X Education Forums','Newspaper','Digital Advertisement','Through Recommendations',\n",
    "               'Receive More Updates About Our Courses', 'Update me on Supply Chain Content','Get updates on DM Content',\n",
    "               'I agree to pay the amount through cheque', 'A free copy of Mastering The Interview']\n",
    "\n",
    "null_values = df[binary_cats].isnull().sum()\n",
    "total = df[binary_cats].count()\n",
    "yes_no = df[binary_cats].applymap(lambda x: 1 if x == 'Yes' or x == 'No' else 0).sum()\n",
    "df_binary_cats = pd.DataFrame({'total': total,\n",
    "                               'null_%': null_values/total*100,\n",
    "                               'yes/no_%': yes_no/total*100})\n",
    "df_binary_cats"
   ]
  },
  {
   "cell_type": "markdown",
   "metadata": {
    "id": "dCzdP2olIzdG"
   },
   "source": [
    "* There's no missing values.\n",
    "* All the columns have only \"Yes\" or \"No\" values."
   ]
  },
  {
   "cell_type": "markdown",
   "metadata": {
    "id": "b-6M0i3jDJV_"
   },
   "source": [
    "## 3.1. Separate train and test datasets\n",
    "**Let's separate train and test set before keep seeing more info.**<br>\n",
    "Separating train and test data is essential to avoid data leakage, evaluate model generalization, and make unbiased performance assessments in machine learning. It ensures robust model development and reliable predictions on new, unseen data.\n",
    "\n",
    "**Why stratify by target label?**<br>\n",
    "Stratifying train and test datasets in classification ensures balanced class representation, guarding against biased or imbalanced model learning. It promotes accurate evaluation, preventing skewed performance metrics."
   ]
  },
  {
   "cell_type": "code",
   "execution_count": null,
   "metadata": {
    "execution": {
     "iopub.execute_input": "2023-10-02T12:04:06.016243Z",
     "iopub.status.busy": "2023-10-02T12:04:06.015588Z",
     "iopub.status.idle": "2023-10-02T12:04:06.033222Z",
     "shell.execute_reply": "2023-10-02T12:04:06.032479Z",
     "shell.execute_reply.started": "2023-10-02T12:04:06.016205Z"
    },
    "id": "2q15QZpu_9Ny",
    "jupyter": {
     "source_hidden": true
    },
    "outputId": "a20e370f-de3c-4aa1-a284-1c9efc20dd0c"
   },
   "outputs": [],
   "source": [
    "train, test = train_test_split(df, test_size=.2, random_state=12, stratify=df['Converted'])\n",
    "print(f'train shape: {train.shape}')\n",
    "print(f'test shape: {test.shape}')"
   ]
  },
  {
   "cell_type": "markdown",
   "metadata": {
    "id": "-xuWp7WEWNbr"
   },
   "source": [
    "## 3.2. Inspecting only training dataset"
   ]
  },
  {
   "cell_type": "code",
   "execution_count": null,
   "metadata": {
    "execution": {
     "iopub.execute_input": "2023-10-02T12:04:06.034898Z",
     "iopub.status.busy": "2023-10-02T12:04:06.034481Z",
     "iopub.status.idle": "2023-10-02T12:04:06.060303Z",
     "shell.execute_reply": "2023-10-02T12:04:06.059561Z",
     "shell.execute_reply.started": "2023-10-02T12:04:06.034873Z"
    },
    "id": "LnRCf0rMFGG-",
    "jupyter": {
     "source_hidden": true
    },
    "outputId": "b2d17c21-1a44-43e2-c90a-1fb12bc9e57d"
   },
   "outputs": [],
   "source": [
    "print(f'In the train set are {train.duplicated().sum()} duplicates')"
   ]
  },
  {
   "cell_type": "markdown",
   "metadata": {
    "id": "5ePxwekAWgP5"
   },
   "source": [
    "**Check the values in Asymmetrique Index columns**"
   ]
  },
  {
   "cell_type": "code",
   "execution_count": null,
   "metadata": {
    "execution": {
     "iopub.execute_input": "2023-10-02T12:04:06.085158Z",
     "iopub.status.busy": "2023-10-02T12:04:06.084595Z",
     "iopub.status.idle": "2023-10-02T12:04:06.092501Z",
     "shell.execute_reply": "2023-10-02T12:04:06.091464Z",
     "shell.execute_reply.started": "2023-10-02T12:04:06.085128Z"
    },
    "id": "8hUZwjZPJtrm",
    "jupyter": {
     "source_hidden": true
    },
    "outputId": "bdcd94dc-04ff-4c4c-8f20-9d760591bda3"
   },
   "outputs": [],
   "source": [
    "train['Asymmetrique Profile Index'].value_counts(dropna=False)"
   ]
  },
  {
   "cell_type": "code",
   "execution_count": null,
   "metadata": {
    "execution": {
     "iopub.execute_input": "2023-10-02T12:04:06.116377Z",
     "iopub.status.busy": "2023-10-02T12:04:06.115774Z",
     "iopub.status.idle": "2023-10-02T12:04:06.123777Z",
     "shell.execute_reply": "2023-10-02T12:04:06.122824Z",
     "shell.execute_reply.started": "2023-10-02T12:04:06.116347Z"
    },
    "id": "u99pjNvyKF8Q",
    "jupyter": {
     "source_hidden": true
    },
    "outputId": "f521f0ca-9153-419c-af82-14a9dd471a4e"
   },
   "outputs": [],
   "source": [
    "train['Asymmetrique Activity Index'].value_counts(dropna=False)"
   ]
  },
  {
   "cell_type": "markdown",
   "metadata": {
    "id": "QexPjetbKKg_"
   },
   "source": [
    "<div class=\"alert alert-warning\" role=\"alert\">\n",
    "    <span style='font-family:sans-serif'>\n",
    "        <b>Assymetrique's columns treatment:</b><br>\n",
    "        <ul>\n",
    "        We have identified three distinct categories and some missing records. To improve the data's representativeness for machine learning modeling, we will focus on the integer values and reverse their order, emphasizing a higher-is-better perspective.<br><br>\n",
    "                <li>High: Assigned a value of 3</li>\n",
    "                <li>Medium: Assigned a value of 2</li>\n",
    "                <li>Low: Assigned a value of 1</li>\n",
    "        </ul>\n",
    "    </span>\n",
    "</div>"
   ]
  },
  {
   "cell_type": "markdown",
   "metadata": {
    "id": "TKj0ZOFUV-7n"
   },
   "source": [
    "<a id=\"4\"></a>\n",
    "# <p style=\"background-color:#5DA688;font-family:sans-serif;color:#FFFFFF;font-size:140%;text-align:left;border-radius:8px 8px;\">4. Data cleaning & Feature Engineering</p>\n",
    "## 4.1 Data Cleaning\n",
    "Let us embark on our first data cleaning endeavor! Our strategy involves transforming each step into Scikit-learn transformation objects, harmonizing the entire process into a unified pipeline.\n",
    "<br><br>\n",
    "**Why is it a commendable practice to conduct all preprocessing tasks using Scikit-learn?**<br>By encapsulating each step into transformation objects, we nurture modularity and reusability. This seamless integration in pipelines ensures consistent application to both training and test datasets, simplifying model selection and tuning while optimizing efficiency and scalability. Ultimately, this fosters a standardized and maintainable machine learning workflow."
   ]
  },
  {
   "cell_type": "code",
   "execution_count": null,
   "metadata": {
    "execution": {
     "iopub.execute_input": "2023-10-02T12:04:06.2271Z",
     "iopub.status.busy": "2023-10-02T12:04:06.226563Z",
     "iopub.status.idle": "2023-10-02T12:04:06.321042Z",
     "shell.execute_reply": "2023-10-02T12:04:06.319884Z",
     "shell.execute_reply.started": "2023-10-02T12:04:06.227054Z"
    },
    "id": "Y3nzwTKBEHYv",
    "jupyter": {
     "source_hidden": true
    }
   },
   "outputs": [],
   "source": [
    "def data_cleaning(df):\n",
    "  \"\"\"Do some of the data cleaning procedures that we\n",
    "  specified at the begining of the notebook\"\"\"\n",
    "  # drop columns id columns\n",
    "  df = df.drop(['Prospect ID','Lead Number'], axis=1)\n",
    "\n",
    "  # asymmetrique index columns transformation\n",
    "  df['Asymmetrique Activity Index'] = df['Asymmetrique Activity Index'].str.split('.', expand=True)[0]\\\n",
    "                                                                        .str.replace('0','').str.replace('1','4')\\\n",
    "                                                                        .str.replace('3','1').str.replace('4','3')\\\n",
    "                                                                        .astype(np.float64\n",
    "                                                                               )\n",
    "  df['Asymmetrique Profile Index'] = df['Asymmetrique Profile Index'].str.split('.', expand=True)[0]\\\n",
    "                                                                        .str.replace('0','').str.replace('1','4')\\\n",
    "                                                                        .str.replace('3','1').str.replace('4','3')\\\n",
    "                                                                        .astype(np.float64\n",
    "                                                                               )\n",
    "  # binary encoding\n",
    "  df[binary_cats] = df[binary_cats].applymap(lambda x: 0 if x == 'No' else 1)\n",
    "    \n",
    "  # rename columns for practicity\n",
    "  df.columns = df.columns.str.replace(' ','_').str.lower()\n",
    "  return df\n",
    "\n",
    "# Convert custom function into transformer\n",
    "initial_clean = FunctionTransformer(data_cleaning)\n",
    "\n",
    "train_clean = initial_clean.fit_transform(train);"
   ]
  },
  {
   "cell_type": "markdown",
   "metadata": {
    "id": "z3J0-PMRTQwJ"
   },
   "source": [
    "## 4.2 Inspecting category columns\n",
    "In this stage, we'll first inspect the categorical columns from a practical and business-oriented perspective, before delving into more advanced statistical analysis.\n",
    "\n",
    "> I firmly believe that simplicity often holds the key to effective solutions.\n",
    "\n",
    "The goal is to take a first look through all category columns to do some feature engineering, extract some initial thoughts for future EDA/feature engineer and handling missing values.<br><br>\n",
    "**For the sake of the notebook's shortness, I omitted outputs. Feel free to download the code and check it yourself!**"
   ]
  },
  {
   "cell_type": "code",
   "execution_count": null,
   "metadata": {
    "execution": {
     "iopub.execute_input": "2023-10-02T12:04:06.323294Z",
     "iopub.status.busy": "2023-10-02T12:04:06.322908Z",
     "iopub.status.idle": "2023-10-02T12:04:06.329811Z",
     "shell.execute_reply": "2023-10-02T12:04:06.328814Z",
     "shell.execute_reply.started": "2023-10-02T12:04:06.323257Z"
    },
    "id": "0F03f2jhSURW",
    "jupyter": {
     "source_hidden": true
    }
   },
   "outputs": [],
   "source": [
    "train_clean.lead_origin.value_counts(dropna=False);"
   ]
  },
  {
   "cell_type": "code",
   "execution_count": null,
   "metadata": {
    "execution": {
     "iopub.execute_input": "2023-10-02T12:04:06.342341Z",
     "iopub.status.busy": "2023-10-02T12:04:06.341755Z",
     "iopub.status.idle": "2023-10-02T12:04:06.348233Z",
     "shell.execute_reply": "2023-10-02T12:04:06.347142Z",
     "shell.execute_reply.started": "2023-10-02T12:04:06.342313Z"
    },
    "id": "c2pCPL62TJgf",
    "jupyter": {
     "source_hidden": true
    }
   },
   "outputs": [],
   "source": [
    "train_clean.lead_source.value_counts(dropna=False);"
   ]
  },
  {
   "cell_type": "markdown",
   "metadata": {
    "id": "bsZ1f42xUxsz"
   },
   "source": [
    "<div class=\"alert alert-info\" role=\"alert\">\n",
    "    <span style='font-family:sans-serif'>\n",
    "        <b>Insights:</b><br>\n",
    "        <ul>\n",
    "            <li>It's probable that NaN values originated from an \"Other\" source.</li>\n",
    "            <li>We should rename \"google\" to \"Google.\"</li>\n",
    "            <li>Probably \"Pay Per Click Ads\" originated from \"Google.\"</li>\n",
    "            <li>We can group \"Referral Sites\" with \"Blog\" and \"WeLearnBlog_Home.\"</li>\n",
    "            <li>We can group \"Live Chat\" into the same category as \"Olark Chat.\"</li>\n",
    "            <li>Group \"bing\" with \"Organic Search.\"</li>\n",
    "            <li>Group \"Click2call,\" \"Social Media,\" \"testone,\" \"Press_release,\" \"youtubechannel,\" \"NC_EDM,\" and \"WeLearn\" into the \"Other\" category.</li>\n",
    "        </ul>\n",
    "    </span>\n",
    "</div>\n"
   ]
  },
  {
   "cell_type": "code",
   "execution_count": null,
   "metadata": {
    "execution": {
     "iopub.execute_input": "2023-10-02T12:04:06.381721Z",
     "iopub.status.busy": "2023-10-02T12:04:06.38134Z",
     "iopub.status.idle": "2023-10-02T12:04:06.387593Z",
     "shell.execute_reply": "2023-10-02T12:04:06.386444Z",
     "shell.execute_reply.started": "2023-10-02T12:04:06.381694Z"
    },
    "id": "P2ZaI-f3TqEb",
    "jupyter": {
     "source_hidden": true
    }
   },
   "outputs": [],
   "source": [
    "train_clean.last_activity.value_counts(dropna=False);"
   ]
  },
  {
   "cell_type": "markdown",
   "metadata": {
    "id": "6H4Q4k1bZBhJ"
   },
   "source": [
    "<div class=\"alert alert-info\" role=\"alert\">\n",
    "    <span style='font-family:sans-serif'>\n",
    "        <b>Insights:</b><br>\n",
    "        <ul>\n",
    "            <li>Group \"Email Received\" with \"SMS Sent.\"</li>\n",
    "            <li>Group \"Email Marked Spam\" with \"Email Bounced\" and \"Unsubscribed\" in a new category called \"Not interested in email.\"</li>\n",
    "            <li>Group \"Resubscribed to emails\" with \"Email Opened.\"</li>\n",
    "            <li>Group \"Visited Booth in Tradeshow\" and \"View in browser link Clicked\" into \"Page Visited on Website,\" as they express the same level of interest, although not the same activity.</li>\n",
    "        </ul>\n",
    "    </span>\n",
    "</div>\n"
   ]
  },
  {
   "cell_type": "code",
   "execution_count": null,
   "metadata": {
    "execution": {
     "iopub.execute_input": "2023-10-02T12:04:06.441264Z",
     "iopub.status.busy": "2023-10-02T12:04:06.440904Z",
     "iopub.status.idle": "2023-10-02T12:04:06.447748Z",
     "shell.execute_reply": "2023-10-02T12:04:06.4465Z",
     "shell.execute_reply.started": "2023-10-02T12:04:06.441238Z"
    },
    "id": "KBnJnEkHYKqQ",
    "jupyter": {
     "source_hidden": true
    }
   },
   "outputs": [],
   "source": [
    "train_clean.country.value_counts(dropna=False);"
   ]
  },
  {
   "cell_type": "markdown",
   "metadata": {
    "id": "l5eNxfdPc6KF"
   },
   "source": [
    "<div class=\"alert alert-info\" role=\"alert\">\n",
    "    <span style='font-family:sans-serif'>\n",
    "        <b>Insights:</b><br>\n",
    "        <ul>\n",
    "            <li>\"Unknown\" and \"Asia/Pacific Region\" could be classified as \"NaN\" as they don't add additional information.</li>\n",
    "            <li>Possibly group regions into \"Europe\" and \"Rest of Asia/Oceania.\"</li>\n",
    "        </ul>\n",
    "    </span>\n",
    "</div>"
   ]
  },
  {
   "cell_type": "code",
   "execution_count": null,
   "metadata": {
    "execution": {
     "iopub.execute_input": "2023-10-02T12:04:06.521818Z",
     "iopub.status.busy": "2023-10-02T12:04:06.521488Z",
     "iopub.status.idle": "2023-10-02T12:04:06.527908Z",
     "shell.execute_reply": "2023-10-02T12:04:06.526802Z",
     "shell.execute_reply.started": "2023-10-02T12:04:06.521794Z"
    },
    "id": "xkaGT7RvcutL",
    "jupyter": {
     "source_hidden": true
    }
   },
   "outputs": [],
   "source": [
    "train_clean.specialization.value_counts(dropna=False);"
   ]
  },
  {
   "cell_type": "markdown",
   "metadata": {
    "id": "NUarnmRbdSDc"
   },
   "source": [
    "<div class=\"alert alert-info\" role=\"alert\">\n",
    "    <span style='font-family:sans-serif'>\n",
    "        <b>Insights:</b><br>\n",
    "        <ul>\n",
    "            <li>Group \"E-COMMERCE\" and \"E-Business\" into a single category called \"e-commerce.\"</li>\n",
    "            <li>Group \"Banking, Investment And Insurance\" with \"Finance Management.\"</li>\n",
    "            <li>Group \"Media and Advertising\" with \"Marketing Management.\"</li>\n",
    "        </ul>\n",
    "    </span>\n",
    "</div>\n",
    "\n"
   ]
  },
  {
   "cell_type": "code",
   "execution_count": null,
   "metadata": {
    "execution": {
     "iopub.execute_input": "2023-10-02T12:04:06.581451Z",
     "iopub.status.busy": "2023-10-02T12:04:06.581049Z",
     "iopub.status.idle": "2023-10-02T12:04:06.587256Z",
     "shell.execute_reply": "2023-10-02T12:04:06.586458Z",
     "shell.execute_reply.started": "2023-10-02T12:04:06.58139Z"
    },
    "id": "vSEefhccdOQG",
    "jupyter": {
     "source_hidden": true
    }
   },
   "outputs": [],
   "source": [
    "train_clean.how_did_you_hear_about_x_education.value_counts(dropna=False);"
   ]
  },
  {
   "cell_type": "markdown",
   "metadata": {
    "id": "wsw7jDI7Z3vM"
   },
   "source": [
    "<div class=\"alert alert-info\" role=\"alert\">\n",
    "    <span style='font-family:sans-serif'>\n",
    "        <b>Insight:</b><br>\n",
    "        <ul>\n",
    "            <li>Group \"SMS\" and \"Email\" into a category called \"SMS/Email.\"</li>\n",
    "        </ul>\n",
    "    </span>\n",
    "</div>"
   ]
  },
  {
   "cell_type": "code",
   "execution_count": null,
   "metadata": {
    "execution": {
     "iopub.execute_input": "2023-10-02T12:04:06.645942Z",
     "iopub.status.busy": "2023-10-02T12:04:06.645247Z",
     "iopub.status.idle": "2023-10-02T12:04:06.651465Z",
     "shell.execute_reply": "2023-10-02T12:04:06.650581Z",
     "shell.execute_reply.started": "2023-10-02T12:04:06.645903Z"
    },
    "id": "4UJwtHbgZtXJ",
    "jupyter": {
     "source_hidden": true
    }
   },
   "outputs": [],
   "source": [
    "train_clean.what_is_your_current_occupation.value_counts(dropna=False);"
   ]
  },
  {
   "cell_type": "code",
   "execution_count": null,
   "metadata": {
    "execution": {
     "iopub.execute_input": "2023-10-02T12:04:06.677171Z",
     "iopub.status.busy": "2023-10-02T12:04:06.676588Z",
     "iopub.status.idle": "2023-10-02T12:04:06.683311Z",
     "shell.execute_reply": "2023-10-02T12:04:06.681954Z",
     "shell.execute_reply.started": "2023-10-02T12:04:06.677139Z"
    },
    "id": "3UdasOuQaS6G",
    "jupyter": {
     "source_hidden": true
    }
   },
   "outputs": [],
   "source": [
    "train_clean.what_matters_most_to_you_in_choosing_a_course.value_counts(dropna=False);"
   ]
  },
  {
   "cell_type": "markdown",
   "metadata": {
    "id": "UrZyMFQZam1J"
   },
   "source": [
    "<div class=\"alert alert-info\" role=\"alert\">\n",
    "    <span style='font-family:sans-serif'>\n",
    "        <b>Insight:</b><br>\n",
    "        <ul>\n",
    "            <li>Considering the low occurrence of cases outside \"Better Career Prospects\" and \"NaN,\" using the mode for replacement is prudent. However, thorough analysis and validation are crucial to avoid potential biases.</li>\n",
    "        </ul>\n",
    "    </span>\n",
    "</div>\n"
   ]
  },
  {
   "cell_type": "code",
   "execution_count": null,
   "metadata": {
    "execution": {
     "iopub.execute_input": "2023-10-02T12:04:06.752791Z",
     "iopub.status.busy": "2023-10-02T12:04:06.75149Z",
     "iopub.status.idle": "2023-10-02T12:04:06.759927Z",
     "shell.execute_reply": "2023-10-02T12:04:06.758698Z",
     "shell.execute_reply.started": "2023-10-02T12:04:06.752748Z"
    },
    "id": "kPiUjd0GakFu",
    "jupyter": {
     "source_hidden": true
    }
   },
   "outputs": [],
   "source": [
    "train_clean.tags.value_counts(dropna=False);"
   ]
  },
  {
   "cell_type": "markdown",
   "metadata": {
    "id": "zPBY1gHVbk0K"
   },
   "source": [
    "<div class=\"alert alert-info\" role=\"alert\">\n",
    "    <span style='font-family:sans-serif'>\n",
    "        <b>Insights:</b><br>\n",
    "        <ul>\n",
    "            <li>Group \"Invalid Number,\" \"Wrong Number Given,\" \"Number Not Provided,\" and \"Oops Hangup\" into a category called \"Not Interested in Calls.\"</li>\n",
    "            <li>Group \"Interested in Full-Time MBA,\" \"In Confusion Whether Part-Time or DLP,\" and \"Interested in Next Batch\" into a category called \"Shows Certain Interest.\"</li>\n",
    "            <li>Group \"Lost to EINS,\" \"In Touch with EINS,\" \"Want to Take Admission but Has Financial Problems,\" \"Recognition Issue (DEC Approval),\" and \"Graduation in Progress\" as a new category called \"Not Eligible for the Moment.\"</li>\n",
    "            <li>Group \"University Not Recognized\" and \"Diploma Holder (Not Eligible)\" into a category called \"Not Eligible.\"</li>\n",
    "            <li>Group \"Interested in Other Courses\" and \"Not Doing Further Education\" as \"Doesn't Show Interest.\"</li>\n",
    "            <li>Group \"Busy,\" \"Ringing,\" and \"Switched Off\" into a new category called \"Still No Contact.\"</li>\n",
    "            <li>Group \"Closed by Horizzon\" in the same category as \"Already a Student.\"</li>\n",
    "            <li>Group \"Shall Take in the Next Month\" and \"Still Thinking\" into a category called \"Not Sure.\"</li>\n",
    "            <li>Consider grouping \"Lateral Student,\" \"Lost to Others,\" and the rest of the minor categories as \"Others.\"</li>\n",
    "        </ul>\n",
    "    </span>\n",
    "</div>"
   ]
  },
  {
   "cell_type": "code",
   "execution_count": null,
   "metadata": {
    "execution": {
     "iopub.execute_input": "2023-10-02T12:04:06.813291Z",
     "iopub.status.busy": "2023-10-02T12:04:06.812921Z",
     "iopub.status.idle": "2023-10-02T12:04:06.818789Z",
     "shell.execute_reply": "2023-10-02T12:04:06.817946Z",
     "shell.execute_reply.started": "2023-10-02T12:04:06.813262Z"
    },
    "id": "tMrczdX3a_bs",
    "jupyter": {
     "source_hidden": true
    }
   },
   "outputs": [],
   "source": [
    "train_clean.lead_quality.value_counts(dropna=False);"
   ]
  },
  {
   "cell_type": "markdown",
   "metadata": {
    "id": "jKhW4BtHcocG"
   },
   "source": [
    "<div class=\"alert alert-info\" role=\"alert\">\n",
    "    <span style='font-family:sans-serif'>\n",
    "        <b>Insights:</b><br>\n",
    "        <ul>\n",
    "            <li>Possibly use `OrdinalEncoder`.</li>\n",
    "            <li>Missing values might not be assigned yet to a category; in that case, we can group those values in the same category as \"Not Sure.\"</li>\n",
    "        </ul>\n",
    "    </span>\n",
    "</div>\n"
   ]
  },
  {
   "cell_type": "code",
   "execution_count": null,
   "metadata": {
    "execution": {
     "iopub.execute_input": "2023-10-02T12:04:06.876796Z",
     "iopub.status.busy": "2023-10-02T12:04:06.876063Z",
     "iopub.status.idle": "2023-10-02T12:04:06.881907Z",
     "shell.execute_reply": "2023-10-02T12:04:06.880956Z",
     "shell.execute_reply.started": "2023-10-02T12:04:06.876767Z"
    },
    "id": "kjSqTMXcckR7",
    "jupyter": {
     "source_hidden": true
    }
   },
   "outputs": [],
   "source": [
    "train_clean.lead_profile.value_counts(dropna=False);"
   ]
  },
  {
   "cell_type": "code",
   "execution_count": null,
   "metadata": {
    "execution": {
     "iopub.execute_input": "2023-10-02T12:04:06.914201Z",
     "iopub.status.busy": "2023-10-02T12:04:06.913788Z",
     "iopub.status.idle": "2023-10-02T12:04:06.920371Z",
     "shell.execute_reply": "2023-10-02T12:04:06.91925Z",
     "shell.execute_reply.started": "2023-10-02T12:04:06.914173Z"
    },
    "id": "YdY-_wP7c-zk",
    "jupyter": {
     "source_hidden": true
    }
   },
   "outputs": [],
   "source": [
    "train_clean.city.value_counts(dropna=False);"
   ]
  },
  {
   "cell_type": "code",
   "execution_count": null,
   "metadata": {
    "execution": {
     "iopub.execute_input": "2023-10-02T12:04:06.938344Z",
     "iopub.status.busy": "2023-10-02T12:04:06.937987Z",
     "iopub.status.idle": "2023-10-02T12:04:06.944698Z",
     "shell.execute_reply": "2023-10-02T12:04:06.943626Z",
     "shell.execute_reply.started": "2023-10-02T12:04:06.938312Z"
    },
    "id": "SVUAdOAnc21f",
    "jupyter": {
     "source_hidden": true
    }
   },
   "outputs": [],
   "source": [
    "train_clean.last_notable_activity.value_counts(dropna=False);"
   ]
  },
  {
   "cell_type": "markdown",
   "metadata": {
    "id": "IxO83nbHf43e"
   },
   "source": [
    "<div class=\"alert alert-info\" role=\"alert\">\n",
    "    <span style='font-family:sans-serif'>\n",
    "        <b>Insight:</b><br>\n",
    "        <ul>\n",
    "            <li>Apply the same procedure as used for the \"Last Activity\" column.</li>\n",
    "        </ul>\n",
    "    </span>\n",
    "</div>\n"
   ]
  },
  {
   "cell_type": "markdown",
   "metadata": {
    "id": "C75nlHbroFd7"
   },
   "source": [
    "<div class=\"alert alert-warning\" role=\"alert\">\n",
    "    <span style='font-family:sans-serif'>\n",
    "        <b>Data Manipulation:</b><br>\n",
    "        Upon review, we found many \"select\" entries in columns, indicating potential blanks or unassigned values. We'll consider \"select\" as \"Not Provided\" instead of typical missing data in our analysis to better understand this pattern.\n",
    "    </span>\n",
    "</div>"
   ]
  },
  {
   "cell_type": "markdown",
   "metadata": {
    "id": "1TXlIQ5Ua9Og"
   },
   "source": [
    "<div class=\"alert alert-warning\" role=\"alert\">\n",
    "    <span style='font-family:sans-serif'>\n",
    "        <b>Possible Changes to Evaluate in Further Analysis:</b><br>\n",
    "        <ul>\n",
    "            <li>Reduce \"Assymetrique\" columns, which might contain redundant information.</li>\n",
    "            <li>Consider the necessity of having both \"last_activity\" and \"last_notable_activity\" columns.</li>\n",
    "            <li>Possibly use `OrdinalEncoder` in the Lead Quality column.</li>\n",
    "            <li>Consider that missing values in the Lead Quality column might not be assigned yet to a category; in that case, they can be grouped with the same category as \"Not Sure.\"</li>\n",
    "            <li>Investigate the possibility that NaN values in the Lead Source column originated from an \"Other\" source.</li>\n",
    "            <li>Possibly group regions in the country column into \"Europe\" and \"Rest of Asia/Oceania.\"</li>\n",
    "            <li>Consider dropping the \"tags\" column.</li>\n",
    "        </ul>\n",
    "    </span>\n",
    "</div>"
   ]
  },
  {
   "cell_type": "markdown",
   "metadata": {
    "id": "khCxagIKdADS"
   },
   "source": [
    "## 4.3 Initial feature engineering"
   ]
  },
  {
   "cell_type": "markdown",
   "metadata": {
    "id": "-TaOCUrkhfDK"
   },
   "source": [
    "**Apply initial changes described in the previous insights.**"
   ]
  },
  {
   "cell_type": "code",
   "execution_count": null,
   "metadata": {
    "execution": {
     "iopub.execute_input": "2023-10-02T12:04:07.139675Z",
     "iopub.status.busy": "2023-10-02T12:04:07.139275Z",
     "iopub.status.idle": "2023-10-02T12:04:12.991928Z",
     "shell.execute_reply": "2023-10-02T12:04:12.990875Z",
     "shell.execute_reply.started": "2023-10-02T12:04:07.139644Z"
    },
    "id": "HZMmCjnug2TZ",
    "jupyter": {
     "source_hidden": true
    }
   },
   "outputs": [],
   "source": [
    "def initial_feature_engineering(df):\n",
    "  \"\"\"Do some feature engineering\"\"\"\n",
    "  # lead_source\n",
    "  df['lead_source'] = df['lead_source'].str.replace('|'.join(['google','Pay per Click Ads']),'Google')\n",
    "  df['lead_source'] = df['lead_source'].apply(lambda x: \"Referral Sites\" if 'blog' in str(x) else x)\n",
    "  df['lead_source'] = df['lead_source'].str.replace('Live Chat','Olark Chat')\n",
    "  df['lead_source'] = df['lead_source'].str.replace('bing','Organic Search')\n",
    "  df['lead_source'] = df[df['lead_source'] != 'Other'].lead_source.apply(lambda x: \"Other\" if str(x) not in train_clean.lead_source.value_counts()[:8].index else x)\n",
    "  # last_activity and last_notable_activity\n",
    "  activity = ['last_activity','last_notable_activity']\n",
    "  df[activity] = df[activity].apply(lambda x: x.str.replace('|'.join(['Email Received','SMS Sent']),'SMS/Email Sent'))\n",
    "  df[activity] = df[activity].apply(lambda x: x.str.replace('|'.join(['Email Marked Spam','Email Bounced','Unsubscribed']),'Not interested in email'))\n",
    "  df[activity] = df[activity].apply(lambda x: x.str.replace('Resubscribed to emails','Email Opened'))\n",
    "  df[activity] = df[activity].apply(lambda x: x.str.replace('|'.join(['Visited Booth in Tradeshow','View in browser link Clicked']),'Page Visited on Website'))\n",
    "  # country\n",
    "  df['country'] = df['country'].apply(lambda x: np.nan if x in ['Unknown','unknown','Asia/Pacific Region'] else x)\n",
    "  # specialization\n",
    "  df['specialization'] = df['specialization'].str.replace('|'.join(['E-COMMERCE','E-Business']),'E-commerce')\n",
    "  df['specialization'] = df['specialization'].str.replace('Banking, Investment And Insurance','Finance Management')\n",
    "  df['specialization'] = df['specialization'].str.replace('Media and Advertising','Marketing Management')\n",
    "  df['specialization'] = df['specialization'].str.replace('Select','Not Provided')\n",
    "  # how_did_you_hear\n",
    "  df['how_did_you_hear_about_x_education'] = df['how_did_you_hear_about_x_education'].str.replace('Select','Not Provided')\n",
    "  df['how_did_you_hear_about_x_education'] = df['how_did_you_hear_about_x_education'].str.replace('|'.join(['SMS','Email']),'SMS/Email')\n",
    "  # importance_in_course\n",
    "  df['what_matters_most_to_you_in_choosing_a_course'] = df['what_matters_most_to_you_in_choosing_a_course'].str.replace('|'.join(['Flexibility & Convenience','Other']),\"Better Career Prospects\")\n",
    "  # lead_profile\n",
    "  df['lead_profile'] = df['lead_profile'].str.replace('Select','Not Assigned')\n",
    "  # city\n",
    "  df['city'] = df['city'].str.replace('Select','Not Provided')\n",
    "\n",
    "  return df\n",
    "\n",
    "initial_feature_engineering = FunctionTransformer(initial_feature_engineering)\n",
    "train_clean = initial_feature_engineering.fit_transform(train_clean);"
   ]
  },
  {
   "cell_type": "markdown",
   "metadata": {
    "id": "cZSio8Rw0fc8"
   },
   "source": [
    "<a id=\"5\"></a>\n",
    "# <p style=\"background-color:#5DA688;font-family:sans-serif;color:#FFFFFF;font-size:140%;text-align:left;border-radius:8px 8px;\">5. Explore missing values</p>"
   ]
  },
  {
   "cell_type": "markdown",
   "metadata": {},
   "source": [
    "**Copy of the dataset and visualizations style**"
   ]
  },
  {
   "cell_type": "code",
   "execution_count": null,
   "metadata": {
    "execution": {
     "iopub.execute_input": "2023-10-02T12:04:12.994674Z",
     "iopub.status.busy": "2023-10-02T12:04:12.993786Z",
     "iopub.status.idle": "2023-10-02T12:04:13.00841Z",
     "shell.execute_reply": "2023-10-02T12:04:13.00738Z",
     "shell.execute_reply.started": "2023-10-02T12:04:12.994643Z"
    },
    "id": "erNIqujD7mze",
    "jupyter": {
     "source_hidden": true
    }
   },
   "outputs": [],
   "source": [
    "train_ = train_clean.copy()\n",
    "\n",
    "# Set style for better visualizations\n",
    "train_eda = train.copy()\n",
    "sns.set_style('dark')\n",
    "sns.set(rc={'axes.grid':False})\n",
    "sns.set_palette('viridis')"
   ]
  },
  {
   "cell_type": "code",
   "execution_count": null,
   "metadata": {
    "execution": {
     "iopub.execute_input": "2023-10-02T12:04:13.010107Z",
     "iopub.status.busy": "2023-10-02T12:04:13.009806Z",
     "iopub.status.idle": "2023-10-02T12:04:13.049521Z",
     "shell.execute_reply": "2023-10-02T12:04:13.04877Z",
     "shell.execute_reply.started": "2023-10-02T12:04:13.010083Z"
    },
    "id": "IUM3YtMH2KkE",
    "jupyter": {
     "source_hidden": true
    },
    "outputId": "59917513-f229-4b4f-a431-1ec268e77a81"
   },
   "outputs": [],
   "source": [
    "null_ = pd.DataFrame()\n",
    "null_['proportion'] = np.round(train_clean.isnull().sum()/len(train_clean),4) * 100\n",
    "null_['amount'] = train_clean.isnull().sum()\n",
    "\n",
    "# Show only those columns with at least 1 missing value\n",
    "null_.sort_values(by='proportion', ascending=False)[null_.amount > 0]"
   ]
  },
  {
   "cell_type": "markdown",
   "metadata": {
    "id": "PGGb7VK5f8dX"
   },
   "source": [
    "<div class=\"alert alert-info\" role=\"alert\">\n",
    "    <span style='font-family:sans-serif'>\n",
    "        <b>Insights:</b><br>\n",
    "        <ul>\n",
    "            <li>Missing values in certain columns, often requiring employee input, might stem from uncategorized leads. Streamlining lead management can improve data collection, inform decision-making, and optimize lead conversion strategies. Further investigation is necessary to confirm this hypothesis.\n",
    "        </ul>\n",
    "    </span>\n",
    "</div>\n"
   ]
  },
  {
   "cell_type": "markdown",
   "metadata": {
    "id": "cxaxnIt_fniq"
   },
   "source": [
    "**Define some plot functions**"
   ]
  },
  {
   "cell_type": "code",
   "execution_count": null,
   "metadata": {
    "execution": {
     "iopub.execute_input": "2023-10-02T12:04:13.051964Z",
     "iopub.status.busy": "2023-10-02T12:04:13.051159Z",
     "iopub.status.idle": "2023-10-02T12:04:13.058114Z",
     "shell.execute_reply": "2023-10-02T12:04:13.056984Z",
     "shell.execute_reply.started": "2023-10-02T12:04:13.051936Z"
    },
    "id": "sK9nrw-2KKJP",
    "jupyter": {
     "source_hidden": true
    }
   },
   "outputs": [],
   "source": [
    "\n",
    "def barplot_catcols(column,width,heigh):\n",
    "  \"\"\"Plot conversion rate\"\"\"\n",
    "  fig, ax  = plt.subplots(figsize=(width,heigh))\n",
    "  ax = sns.barplot(data=train_.fillna('NaN'), x='converted', y=column,\n",
    "            order=order(train_.fillna('NaN'),column),\n",
    "            orient='h', palette='viridis',\n",
    "            seed=2)\n",
    "  plt.title(f'Conversion Rate by {column.replace(\"_\",\" \").title()}', loc='left', size=18)\n",
    "  return ax\n",
    "\n",
    "def order(df,x,y=None):\n",
    "    if y is not None:\n",
    "        return df.groupby(x)[y].mean().sort_values(ascending=False).index\n",
    "    else:\n",
    "        return df.groupby(x)['converted'].mean().sort_values(ascending=False).index"
   ]
  },
  {
   "cell_type": "markdown",
   "metadata": {
    "id": "reNgcNgfG3GM"
   },
   "source": [
    "## 5.1 How much of the missing values belong to the same people?"
   ]
  },
  {
   "cell_type": "code",
   "execution_count": null,
   "metadata": {
    "execution": {
     "iopub.execute_input": "2023-10-02T12:04:13.059854Z",
     "iopub.status.busy": "2023-10-02T12:04:13.059318Z",
     "iopub.status.idle": "2023-10-02T12:04:13.876702Z",
     "shell.execute_reply": "2023-10-02T12:04:13.875863Z",
     "shell.execute_reply.started": "2023-10-02T12:04:13.059826Z"
    },
    "id": "M0YOckAjN0nG",
    "jupyter": {
     "source_hidden": true
    },
    "outputId": "c31a0bc3-b214-47e6-b6a9-9fa044b2c5e8"
   },
   "outputs": [],
   "source": [
    "# Number of missing values in each row\n",
    "train_['amount_missing'] = train_.isnull().sum(1)\n",
    "\n",
    "# Plot the relation between amount missing and conversion rate\n",
    "fig, ax  = plt.subplots(figsize=(8,5))\n",
    "ax = sns.barplot(data=train_.fillna('NaN'), x='converted', y='amount_missing',\n",
    "            orient='h', palette='viridis',\n",
    "            seed=2)\n",
    "plt.title(f'Conversion Rate by Amount Missing', loc='left', size=20)\n",
    "plt.show()"
   ]
  },
  {
   "cell_type": "code",
   "execution_count": null,
   "metadata": {
    "execution": {
     "iopub.execute_input": "2023-10-02T12:04:13.878412Z",
     "iopub.status.busy": "2023-10-02T12:04:13.877908Z",
     "iopub.status.idle": "2023-10-02T12:04:14.267435Z",
     "shell.execute_reply": "2023-10-02T12:04:14.266522Z",
     "shell.execute_reply.started": "2023-10-02T12:04:13.878384Z"
    },
    "id": "4JusI5o4xjb2",
    "jupyter": {
     "source_hidden": true
    },
    "outputId": "f03ba95a-1ac3-4db0-d1d4-422d33641829"
   },
   "outputs": [],
   "source": [
    "fig, ax  = plt.subplots(figsize=(8,2))\n",
    "ax = sns.barplot(data=train_, x='amount_missing', y='converted',\n",
    "            orient='h', palette=sns.color_palette('viridis',2),\n",
    "            seed=2)\n",
    "plt.title(f'Amount missing by leads conversion', loc='left', size=18)\n",
    "plt.show()"
   ]
  },
  {
   "cell_type": "markdown",
   "metadata": {
    "id": "EnloTSaByKD-"
   },
   "source": [
    "## 5.2 Correlation of numerical columns with converted column"
   ]
  },
  {
   "cell_type": "code",
   "execution_count": null,
   "metadata": {
    "execution": {
     "iopub.execute_input": "2023-10-02T12:04:14.269151Z",
     "iopub.status.busy": "2023-10-02T12:04:14.268659Z",
     "iopub.status.idle": "2023-10-02T12:04:14.728622Z",
     "shell.execute_reply": "2023-10-02T12:04:14.727782Z",
     "shell.execute_reply.started": "2023-10-02T12:04:14.269123Z"
    },
    "id": "_DCAFlRAx9mJ",
    "jupyter": {
     "source_hidden": true
    },
    "outputId": "1f6b2fdb-b1d4-4db7-dc34-1f3838ef8f4c"
   },
   "outputs": [],
   "source": [
    "correlations = train_.select_dtypes('number').corr()['converted'].sort_values(ascending=False)\n",
    "\n",
    "plt.figure(figsize=(8, 8))\n",
    "correlations[1:].plot(kind='barh', \n",
    "                 color=sns.color_palette('viridis', len(correlations)))\n",
    "\n",
    "plt.title('Correlation with the target variable', fontsize=20)\n",
    "plt.xlabel('Correlation')\n",
    "plt.ylabel('Features')\n",
    "plt.show()"
   ]
  },
  {
   "cell_type": "markdown",
   "metadata": {
    "id": "2Ww82WcDYheV"
   },
   "source": [
    "<div class=\"alert alert-info\" role=\"alert\">\n",
    "    <span style='font-family:sans-serif'>\n",
    "        <b>Insight:</b><br>\n",
    "        <ul>\n",
    "            <li>There's a negative correlation between missing lead data and the conversion rate. Higher instances of missing data might signify incomplete or poorly managed lead information, leading to potential difficulties in accurately categorizing and nurturing leads.</li>\n",
    "            <li>Notably, there's one column, \"Total Time Spent On Website,\" which has a stronger correlation with the target variable than the number of missing values columns. This suggests that it might be a better potential predictor than most of the other features.</li>\n",
    "        </ul>\n",
    "    </span>\n",
    "</div>\n"
   ]
  },
  {
   "cell_type": "code",
   "execution_count": null,
   "metadata": {
    "execution": {
     "iopub.execute_input": "2023-10-02T12:04:14.730186Z",
     "iopub.status.busy": "2023-10-02T12:04:14.72974Z",
     "iopub.status.idle": "2023-10-02T12:04:14.77248Z",
     "shell.execute_reply": "2023-10-02T12:04:14.771171Z",
     "shell.execute_reply.started": "2023-10-02T12:04:14.73016Z"
    },
    "id": "NL7-QUvtCeRl",
    "jupyter": {
     "source_hidden": true
    },
    "outputId": "263bcf26-865a-4c1b-b188-8051f25b8b75"
   },
   "outputs": [],
   "source": [
    "print(f'Duplicate rows from original dataset: {train.duplicated().sum()}')\n",
    "print(f'Duplicate rows after feature engineer: {train_clean.duplicated().sum()}')"
   ]
  },
  {
   "cell_type": "markdown",
   "metadata": {
    "id": "qsEOTfDQmjQU"
   },
   "source": [
    "<div class=\"alert alert-warning\" role=\"alert\">\n",
    "    <span style='font-family:sans-serif'>\n",
    "        <b>Handle Missing Values:</b><br>\n",
    "        We currently lack sufficient information to determine the best approach for dealing with missing values. To address this, we will conduct a detailed data exploration, searching for patterns related to lead conversion. Once we have a clearer understanding, we can devise the most appropriate strategy for handling these missing records.\n",
    "    </span>\n",
    "</div>\n"
   ]
  },
  {
   "cell_type": "markdown",
   "metadata": {
    "id": "5o9zck9KD3pM"
   },
   "source": [
    "<a id=\"6\"></a>\n",
    "# <p style=\"background-color:#5DA688;font-family:sans-serif;color:#FFFFFF;font-size:140%;text-align:left;border-radius:8px 8px;\">6. Exploratory Data Analysis</p>\n",
    "\n",
    "Considering the prevalence of categorical or binary variables, we'll treat \"NaN\" values as a distinct category for comparison. For numerical columns with few \"NaN\" values, we'll exclude them to ensure robust analysis. This follows EDA best practices for gaining valuable insights from the dataset."
   ]
  },
  {
   "cell_type": "code",
   "execution_count": null,
   "metadata": {
    "execution": {
     "iopub.execute_input": "2023-10-02T12:04:14.774076Z",
     "iopub.status.busy": "2023-10-02T12:04:14.773757Z",
     "iopub.status.idle": "2023-10-02T12:04:14.92198Z",
     "shell.execute_reply": "2023-10-02T12:04:14.920735Z",
     "shell.execute_reply.started": "2023-10-02T12:04:14.774048Z"
    },
    "id": "2tKLJoepD8ZI",
    "jupyter": {
     "source_hidden": true
    },
    "outputId": "84b7af34-3739-4ee9-86b5-23f2e5b028af"
   },
   "outputs": [],
   "source": [
    "count = train_['converted'].value_counts()\n",
    "\n",
    "fig, ax = plt.subplots(figsize=(10, 5))\n",
    "ax.pie(count, labels=count.index, autopct='%1.1f%%', startangle=90, colors=['#29568CFF', '#3CBB75FF'])\n",
    "ax.set_title('Converted', size=20)\n",
    "\n",
    "centre_circle = plt.Circle((0,0),0.70,fc='white')\n",
    "fig.gca().add_artist(centre_circle)\n",
    "\n",
    "plt.axis('equal')\n",
    "plt.show()"
   ]
  },
  {
   "cell_type": "markdown",
   "metadata": {
    "id": "_CmMPrEdakft"
   },
   "source": [
    "<div class=\"alert alert-info\" role=\"alert\">\n",
    "    <span style='font-family:sans-serif'>\n",
    "        <b>Insight:</b><br>\n",
    "        The dataset exhibits a relatively balanced distribution of the target variable. While there may be some variations in class proportions, it's not extremely unbalanced.\n",
    "    </span>\n",
    "</div>\n"
   ]
  },
  {
   "cell_type": "markdown",
   "metadata": {
    "id": "7FpH7JTxb3Fd"
   },
   "source": [
    "### Do we get redundant information among different columns?"
   ]
  },
  {
   "cell_type": "code",
   "execution_count": null,
   "metadata": {
    "execution": {
     "iopub.execute_input": "2023-10-02T12:04:14.927606Z",
     "iopub.status.busy": "2023-10-02T12:04:14.927114Z",
     "iopub.status.idle": "2023-10-02T12:04:14.952294Z",
     "shell.execute_reply": "2023-10-02T12:04:14.951148Z",
     "shell.execute_reply.started": "2023-10-02T12:04:14.927563Z"
    },
    "id": "tdMtgTP5jKuK",
    "jupyter": {
     "source_hidden": true
    },
    "outputId": "84015e80-ab85-41ca-f0e5-4331913bd89f"
   },
   "outputs": [],
   "source": [
    "train_.loc[:,'asymmetrique_activity_index':'asymmetrique_profile_score'].corr().style.background_gradient(cmap='vlag_r')"
   ]
  },
  {
   "cell_type": "markdown",
   "metadata": {
    "id": "z4l6gDIqktrr"
   },
   "source": [
    "<div class=\"alert alert-info\" role=\"alert\">\n",
    "    <span style='font-family:sans-serif'>\n",
    "        <b>Insight:</b><br>\n",
    "        <ul>\n",
    "            <li>As expected, there's a strong correlation between the \"Score\" and \"Index\" columns. Given the level of detail in the data, retaining the score columns appears to be a sound choice. These columns appear to offer valuable information, and their inclusion in our analysis is likely to yield valuable insights.\n",
    "            </li>\n",
    "        </ul>\n",
    "    </span>\n",
    "</div>\n"
   ]
  },
  {
   "cell_type": "markdown",
   "metadata": {
    "id": "SbQFVdRRze_Q"
   },
   "source": [
    "## 5.1 Categorical variables"
   ]
  },
  {
   "cell_type": "markdown",
   "metadata": {
    "id": "6qfy4VI0nzNy"
   },
   "source": [
    "### 5.1.1 Profile scoring and classifier"
   ]
  },
  {
   "cell_type": "code",
   "execution_count": null,
   "metadata": {
    "execution": {
     "iopub.execute_input": "2023-10-02T12:04:14.954889Z",
     "iopub.status.busy": "2023-10-02T12:04:14.954147Z",
     "iopub.status.idle": "2023-10-02T12:04:16.225098Z",
     "shell.execute_reply": "2023-10-02T12:04:16.223963Z",
     "shell.execute_reply.started": "2023-10-02T12:04:14.954838Z"
    },
    "id": "fhahczplnJ1x",
    "jupyter": {
     "source_hidden": true
    },
    "outputId": "015c10c6-0ca5-4266-e726-18bfe5d6f6a2"
   },
   "outputs": [],
   "source": [
    "fig, ax  = plt.subplots(1,2, figsize=(12,6), sharey=True)\n",
    "\n",
    "sns.barplot(data=train_.fillna('NaN'), x='lead_profile', y='converted',\n",
    "            palette='viridis', order=order(train_.fillna('NaN'),'lead_profile'),\n",
    "            seed=2, ax=ax[0])\n",
    "ax[0].set_xticklabels(ax[0].get_xticklabels(), rotation=90)\n",
    "ax[0].set_title(f'Conversion Rate by Lead Profile', loc='left', size=16)\n",
    "\n",
    "sns.barplot(data=train_.fillna('NaN'), x='asymmetrique_profile_score', y='converted',\n",
    "                  palette='viridis', order=order(train_.fillna('NaN'),'asymmetrique_profile_score'),\n",
    "                    seed=2, ax=ax[1])\n",
    "ax[1].set_xticklabels(ax[1].get_xticklabels(), rotation=90)\n",
    "ax[1].set_title(f'Conversion Rate by Asymmetrique Profile Score', loc='left', size=16)\n",
    "\n",
    "plt.tight_layout()\n",
    "plt.show()"
   ]
  },
  {
   "cell_type": "markdown",
   "metadata": {
    "id": "tVsrZ9rxoLjF"
   },
   "source": [
    "<div class=\"alert alert-info\" role=\"alert\">\n",
    "    <span style='font-family:sans-serif'>\n",
    "        <b>Insights:</b><br>\n",
    "        <ul>\n",
    "            <li>There's a significant difference in the conversion rate of people with \"Not Assigned\" and \"NaN\" values, which might suggest that they do not belong to the same group.</li>\n",
    "            <li>Profile Score could be a better predictor than Lead Profile, as the conversion rate tends to increase with higher scores.</li>\n",
    "            <li>Because both columns essentially represent the same information, it is advisable to drop the Lead Profile column for simplicity and clarity in the analysis.</li>\n",
    "        </ul>\n",
    "    </span>\n",
    "</div>"
   ]
  },
  {
   "cell_type": "markdown",
   "metadata": {
    "id": "cRztdB-ypJWD"
   },
   "source": [
    "### 5.1.2 Lead Activity"
   ]
  },
  {
   "cell_type": "markdown",
   "metadata": {
    "id": "kynuQMnTsZ_f"
   },
   "source": [
    "**Correlation between activity track record (columns related with the web) and activity/profile score**"
   ]
  },
  {
   "cell_type": "code",
   "execution_count": null,
   "metadata": {
    "execution": {
     "iopub.execute_input": "2023-10-02T12:04:16.227063Z",
     "iopub.status.busy": "2023-10-02T12:04:16.226519Z",
     "iopub.status.idle": "2023-10-02T12:04:16.245917Z",
     "shell.execute_reply": "2023-10-02T12:04:16.244929Z",
     "shell.execute_reply.started": "2023-10-02T12:04:16.227033Z"
    },
    "id": "XM_EtNrrrFQU",
    "jupyter": {
     "source_hidden": true
    },
    "outputId": "633b5f1a-d9f8-43d0-b1e7-b5e98aaf568d",
    "scrolled": true
   },
   "outputs": [],
   "source": [
    "activity_columns = ['totalvisits','total_time_spent_on_website','page_views_per_visit',\n",
    "                    'asymmetrique_profile_score','asymmetrique_activity_score']\n",
    "\n",
    "train_[activity_columns].corr().style.background_gradient(cmap='vlag_r')"
   ]
  },
  {
   "cell_type": "markdown",
   "metadata": {
    "id": "6FF2symw1B8z"
   },
   "source": [
    "**Having columns about last activity and last notable activity provides more information?**"
   ]
  },
  {
   "cell_type": "code",
   "execution_count": null,
   "metadata": {
    "execution": {
     "iopub.execute_input": "2023-10-02T12:04:16.247939Z",
     "iopub.status.busy": "2023-10-02T12:04:16.247284Z",
     "iopub.status.idle": "2023-10-02T12:04:17.858861Z",
     "shell.execute_reply": "2023-10-02T12:04:17.857585Z",
     "shell.execute_reply.started": "2023-10-02T12:04:16.247904Z"
    },
    "id": "hNznP-Vr0obg",
    "jupyter": {
     "source_hidden": true
    },
    "outputId": "40978748-cf2a-4424-da54-477311fdd178"
   },
   "outputs": [],
   "source": [
    "fig, ax  = plt.subplots(1,2, figsize=(12,6), sharey=True)\n",
    "\n",
    "sns.barplot(data=train_.fillna('NaN'), x='last_activity', y='converted',\n",
    "            order=order(train_.fillna('NaN'),'last_activity'),\n",
    "            palette='viridis',\n",
    "            seed=2, ax=ax[0])\n",
    "ax[0].set_xticklabels(ax[0].get_xticklabels(), rotation=90)\n",
    "ax[0].set_title(f'Conversion Rate by Last Activity', loc='left', size=16)\n",
    "\n",
    "sns.barplot(data=train_.fillna('NaN'), x='last_notable_activity', y='converted',\n",
    "                  order=order(train_.fillna('NaN'),'last_notable_activity'),\n",
    "                  palette='viridis', seed=2)\n",
    "ax[1].set_xticklabels(ax[1].get_xticklabels(), rotation=90)\n",
    "ax[1].set_title(f'Conversion Rate by Last Notable Activity', loc='left', size=16)\n",
    "\n",
    "plt.tight_layout()\n",
    "plt.show()"
   ]
  },
  {
   "cell_type": "markdown",
   "metadata": {
    "id": "nI31iswjt1Jc"
   },
   "source": [
    "<div class=\"alert alert-info\" role=\"alert\">\n",
    "    <span style='font-family:sans-serif'>\n",
    "        <b>Insights:</b><br>\n",
    "        <ul>\n",
    "            <li>Activity Score seems to be a less effective predictor compared to Profile Score.</li>\n",
    "            <li>No significant relationship was found between Activity Index and Last Activity, Last Notable Activity, or columns related to visits.</li>\n",
    "            <li>There's no significant correlation among columns related to visits.</li>\n",
    "            <li>Last Activity does not appear to provide substantially more information than Last Notable Activity. Hence, it may be preferable to retain Last Notable Activity.</li>\n",
    "        </ul>\n",
    "    </span>\n",
    "</div>\n",
    "\n",
    "<div class=\"alert alert-success\" role=\"alert\">\n",
    "    <span style='font-family:sans-serif'>\n",
    "        <b>Business Suggestion:</b><br>\n",
    "        <ul>\n",
    "            Our analysis reveals a significant correlation between phone conversations and lead conversions. To maximize results, consider increasing phone calls to leads. Prioritizing \"Hot Leads\" for calls can enhance resource allocation and boost conversion rates, ultimately driving better business outcomes.\n",
    "        </ul>\n",
    "    </span>\n",
    "</div>\n",
    "\n",
    "\n",
    "\n",
    "\n",
    "\n"
   ]
  },
  {
   "cell_type": "markdown",
   "metadata": {
    "id": "PWyayrr7zh-k"
   },
   "source": [
    "### 5.1.3 Lead Quality and Tags"
   ]
  },
  {
   "cell_type": "code",
   "execution_count": null,
   "metadata": {
    "execution": {
     "iopub.execute_input": "2023-10-02T12:04:17.861212Z",
     "iopub.status.busy": "2023-10-02T12:04:17.860204Z",
     "iopub.status.idle": "2023-10-02T12:04:18.398932Z",
     "shell.execute_reply": "2023-10-02T12:04:18.397881Z",
     "shell.execute_reply.started": "2023-10-02T12:04:17.861171Z"
    },
    "id": "xZR5wfahN9a_",
    "jupyter": {
     "source_hidden": true
    },
    "outputId": "60320cc0-a0e9-474c-9750-f182218da51f"
   },
   "outputs": [],
   "source": [
    "barplot_catcols('lead_quality',8,3)\n",
    "plt.show()"
   ]
  },
  {
   "cell_type": "markdown",
   "metadata": {
    "id": "19J0k-r22yp-"
   },
   "source": [
    "<div class=\"alert alert-info\" role=\"alert\">\n",
    "    <span style='font-family:sans-serif'>\n",
    "        <b>Insights:</b><br>\n",
    "        <ul>\n",
    "            NaN rows and Not Sure have similar conversion rate, it's possible that belong to the same group of people with the difference that some employees qualify as Not Sure, and others simply don't fill that field.\n",
    "        </ul>\n",
    "    </span>\n",
    "</div>"
   ]
  },
  {
   "cell_type": "code",
   "execution_count": null,
   "metadata": {
    "execution": {
     "iopub.execute_input": "2023-10-02T12:04:18.401206Z",
     "iopub.status.busy": "2023-10-02T12:04:18.400556Z",
     "iopub.status.idle": "2023-10-02T12:04:19.654227Z",
     "shell.execute_reply": "2023-10-02T12:04:19.653202Z",
     "shell.execute_reply.started": "2023-10-02T12:04:18.401168Z"
    },
    "id": "2vLkapAV37jx",
    "jupyter": {
     "source_hidden": true
    },
    "outputId": "82f2a8d9-e1ad-4506-a6fc-2d731a240a76"
   },
   "outputs": [],
   "source": [
    "fig, ax  = plt.subplots(figsize=(13,4))\n",
    "\n",
    "sns.barplot(data=train_.fillna('NaN'), x='tags', y='converted',\n",
    "            order=order(train_.fillna('NaN'),'tags'),\n",
    "            palette='viridis',\n",
    "            seed=2)\n",
    "plt.xticks(rotation=90)\n",
    "plt.title(f'Conversion Rate by Tags', loc='left', size=20)\n",
    "plt.show()"
   ]
  },
  {
   "cell_type": "markdown",
   "metadata": {
    "id": "AtutWDghRvcu"
   },
   "source": [
    "<div class=\"alert alert-warning\" role=\"alert\">\n",
    "    <span style='font-family:sans-serif'>\n",
    "        <b>Feature Engineer:</b><br>\n",
    "        <ul>\n",
    "            <li>Group \"Invalid Number,\" \"Wrong Number Given,\" and \"Number Not Provided\" into a category called \"Not Interested in Calls.\"</li>\n",
    "            <li>Group \"In Confusion Whether Part-Time or DLP,\" \"Interested in Next Batch,\" \"Shall Take in the Next Month,\" and \"Still Thinking\" into a category called \"Shows Certain Interest.\"</li>\n",
    "            <li>Group \"University Not Recognized\" and \"Diploma Holder (Not Eligible)\" into a new category called \"Not Eligible.\"</li>\n",
    "            <li>Group \"Interested in Other Courses,\" \"Interested in Full-Time MBA,\" and \"Not Doing Further Education\" as \"Doesn't Show Interest.\"</li>\n",
    "            <li>Group \"Ringing\" and \"Switched Off\" in a new category called \"Still No Contact.\"</li>\n",
    "            <li>Group \"Want to Take Admission But Has Financial Problems,\" \"Recognition Issue (DEC Approval),\" \"Graduation in Progress\" as a new category called \"Not Eligible for the Moment.\"</li>\n",
    "            <li>\"Lateral Student,\" \"Lost to Others,\" and the rest of the minor categories might be grouped as \"Others.\"</li>\n",
    "        </ul>\n",
    "    </span>\n",
    "</div>"
   ]
  },
  {
   "cell_type": "markdown",
   "metadata": {
    "id": "oqHTNprr4j-6"
   },
   "source": [
    "### 5.1.4 Ocupation and Specialization"
   ]
  },
  {
   "cell_type": "code",
   "execution_count": null,
   "metadata": {
    "execution": {
     "iopub.execute_input": "2023-10-02T12:04:19.656471Z",
     "iopub.status.busy": "2023-10-02T12:04:19.655799Z",
     "iopub.status.idle": "2023-10-02T12:04:21.664155Z",
     "shell.execute_reply": "2023-10-02T12:04:21.66335Z",
     "shell.execute_reply.started": "2023-10-02T12:04:19.656395Z"
    },
    "id": "WBp-6_kB-gId",
    "jupyter": {
     "source_hidden": true
    },
    "outputId": "fc579ef6-1b04-4123-f075-36110904e8cf"
   },
   "outputs": [],
   "source": [
    "fig, ax  = plt.subplots(1,2, figsize=(14,7), sharey=True)\n",
    "\n",
    "sns.barplot(data=train_.fillna('NaN'), x='specialization', y='converted',\n",
    "            order=order(train_.fillna('NaN'),'specialization'),\n",
    "            palette='viridis',\n",
    "            seed=2, ax=ax[0])\n",
    "ax[0].set_xticklabels(ax[0].get_xticklabels(), rotation=90)\n",
    "ax[0].set_title(f'Conversion Rate by Specialization', loc='left', size=16)\n",
    "\n",
    "sns.barplot(data=train_.fillna('NaN'), x='what_is_your_current_occupation', y='converted',\n",
    "                  order=order(train_.fillna('NaN'),'what_is_your_current_occupation'),\n",
    "                  palette='viridis', seed=2)\n",
    "ax[1].set_xticklabels(ax[1].get_xticklabels(), rotation=90)\n",
    "ax[1].set_title(f'Conversion Rate by Occupation', loc='left', size=16)\n",
    "\n",
    "plt.tight_layout()\n",
    "plt.show()"
   ]
  },
  {
   "cell_type": "markdown",
   "metadata": {
    "id": "6zUD0DpFwYdV"
   },
   "source": [
    "**Number of missing values for each row in these two categories**"
   ]
  },
  {
   "cell_type": "code",
   "execution_count": null,
   "metadata": {
    "execution": {
     "iopub.execute_input": "2023-10-02T12:04:21.66617Z",
     "iopub.status.busy": "2023-10-02T12:04:21.665556Z",
     "iopub.status.idle": "2023-10-02T12:04:21.678115Z",
     "shell.execute_reply": "2023-10-02T12:04:21.677133Z",
     "shell.execute_reply.started": "2023-10-02T12:04:21.66614Z"
    },
    "id": "hbd3J-vM6Fog",
    "jupyter": {
     "source_hidden": true
    },
    "outputId": "25fd8727-bf08-4a13-dd0f-810172d48138"
   },
   "outputs": [],
   "source": [
    "train_[['what_is_your_current_occupation','specialization']].isnull().sum(1).value_counts()"
   ]
  },
  {
   "cell_type": "markdown",
   "metadata": {
    "id": "U3t7kqId4u8o"
   },
   "source": [
    "<div class=\"alert alert-info\" role=\"alert\">\n",
    "    <span style='font-family:sans-serif'>\n",
    "        <b>Insights:</b><br>\n",
    "        <ul>\n",
    "            <li>Almost all (>99%) of the people with missing records in the specialization column are the same people with missing values in the current position.</li>\n",
    "            <li>People with missing values in those categories have a significant difference in the conversion rate compared to the rest, including unemployed people.</li>\n",
    "            <li>Grouping people by current occupation seems to exhibit more noticeable differences in the conversion rate between each category compared to grouping by specialization.</li>\n",
    "        </ul>\n",
    "    </span>\n",
    "</div>"
   ]
  },
  {
   "cell_type": "markdown",
   "metadata": {
    "id": "ctnD3yvN7pqW"
   },
   "source": [
    "## 5.1.5 Geographic data"
   ]
  },
  {
   "cell_type": "code",
   "execution_count": null,
   "metadata": {
    "execution": {
     "iopub.execute_input": "2023-10-02T12:04:21.680031Z",
     "iopub.status.busy": "2023-10-02T12:04:21.679702Z",
     "iopub.status.idle": "2023-10-02T12:04:21.700859Z",
     "shell.execute_reply": "2023-10-02T12:04:21.699641Z",
     "shell.execute_reply.started": "2023-10-02T12:04:21.680005Z"
    }
   },
   "outputs": [],
   "source": [
    "conversion_country = train_.groupby('country')['converted'].mean()\n",
    "country_count = train_['country'].value_counts().sort_index()\n",
    "\n",
    "fig = go.Figure(data=go.Choropleth(\n",
    "    locations=conversion_country.index,\n",
    "    locationmode='country names',\n",
    "    z=conversion_country.values,\n",
    "    text=country_count.values,\n",
    "    colorscale='deep', \n",
    "    colorbar_title='Conversion Rate',\n",
    "    hovertemplate='%{location}<br>Conversion: %{z:.2f}<br>Count: %{text}',\n",
    "))\n",
    "\n",
    "fig.update_geos(projection_type=\"mercator\")\n",
    "\n",
    "fig.update_layout(\n",
    "    title='Conversion Rate by Country',\n",
    "    geo=dict(showcoastlines=True),\n",
    "    font=dict(size=16),\n",
    ")\n",
    "\n",
    "fig.show()"
   ]
  },
  {
   "cell_type": "code",
   "execution_count": null,
   "metadata": {
    "execution": {
     "iopub.execute_input": "2023-10-02T12:04:21.702502Z",
     "iopub.status.busy": "2023-10-02T12:04:21.702173Z",
     "iopub.status.idle": "2023-10-02T12:04:21.723981Z",
     "shell.execute_reply": "2023-10-02T12:04:21.72319Z",
     "shell.execute_reply.started": "2023-10-02T12:04:21.702473Z"
    },
    "jupyter": {
     "source_hidden": true
    }
   },
   "outputs": [],
   "source": [
    "train_['country'].value_counts().sort_index()"
   ]
  },
  {
   "cell_type": "code",
   "execution_count": null,
   "metadata": {
    "execution": {
     "iopub.execute_input": "2023-10-02T12:04:21.725722Z",
     "iopub.status.busy": "2023-10-02T12:04:21.725277Z",
     "iopub.status.idle": "2023-10-02T12:04:22.338854Z",
     "shell.execute_reply": "2023-10-02T12:04:22.337694Z",
     "shell.execute_reply.started": "2023-10-02T12:04:21.725685Z"
    },
    "id": "6aKdegBl9Mlr",
    "jupyter": {
     "source_hidden": true
    },
    "outputId": "9193cb34-5abf-43e3-9105-48b52237020b"
   },
   "outputs": [],
   "source": [
    "barplot_catcols('city',8,4)\n",
    "plt.show()"
   ]
  },
  {
   "cell_type": "markdown",
   "metadata": {},
   "source": [
    "**Is the geographic data correct?**"
   ]
  },
  {
   "cell_type": "code",
   "execution_count": null,
   "metadata": {
    "execution": {
     "iopub.execute_input": "2023-10-02T12:04:22.341366Z",
     "iopub.status.busy": "2023-10-02T12:04:22.340284Z",
     "iopub.status.idle": "2023-10-02T12:04:22.35382Z",
     "shell.execute_reply": "2023-10-02T12:04:22.352684Z",
     "shell.execute_reply.started": "2023-10-02T12:04:22.341326Z"
    },
    "id": "NP-MBk5f9ZvC",
    "jupyter": {
     "source_hidden": true
    },
    "outputId": "b0e81166-a06d-4d07-bb04-1d26e0bbe7b2"
   },
   "outputs": [],
   "source": [
    "print(\"Cities where country isn't India:\")\n",
    "train_[train_['country'] != 'India'].city.value_counts(dropna=False)"
   ]
  },
  {
   "cell_type": "code",
   "execution_count": null,
   "metadata": {
    "execution": {
     "iopub.execute_input": "2023-10-02T12:04:22.356014Z",
     "iopub.status.busy": "2023-10-02T12:04:22.35546Z",
     "iopub.status.idle": "2023-10-02T12:04:22.369601Z",
     "shell.execute_reply": "2023-10-02T12:04:22.368841Z",
     "shell.execute_reply.started": "2023-10-02T12:04:22.355955Z"
    },
    "id": "0mw0NrEO_N88",
    "jupyter": {
     "source_hidden": true
    },
    "outputId": "b24b995b-5578-4c11-c242-c0943174756e"
   },
   "outputs": [],
   "source": [
    "print('Countries where City es equal to an Indian city:')\n",
    "indian_cities = ['Mumbai','Thane & Outskirts','Other Cities of Maharashtra','Tier II Cities']\n",
    "train_[train_.city.isin(indian_cities)].country.value_counts(dropna=False)"
   ]
  },
  {
   "cell_type": "markdown",
   "metadata": {
    "id": "5tJ3-GYR9GW8"
   },
   "source": [
    "<div class=\"alert alert-warning\" role=\"alert\">\n",
    "    <span style='font-family:sans-serif'>\n",
    "        <b>Data Manipulation:</b><br>\n",
    "        <ol>\n",
    "            <li>We have incorrect information in the dataset. There are countries with cities that belong to India, so we can assume that due to the vast majority of customers from India in the dataset these countries should be replace it. Those rows that contains \"Mumbai\", \"Thane & Outskirts\", \"Other Cities of Maharashtra\" and \"Tier II Cities\" will be fill it with \"India\".</li>\n",
    "            <li>Group all the countries that aren't in the top 5 most frequent in a category called \"Other\".</li>\n",
    "            <li>People without information in the city column have a significantly lower conversion rate compared to others.</li>\n",
    "        </ol>\n",
    "    </span>\n",
    "</div>\n"
   ]
  },
  {
   "cell_type": "markdown",
   "metadata": {
    "id": "oo_OKhgitvkV"
   },
   "source": [
    "### 5.1.6 The source from which the customer heard about X Education and the source of the lead"
   ]
  },
  {
   "cell_type": "code",
   "execution_count": null,
   "metadata": {
    "execution": {
     "iopub.execute_input": "2023-10-02T12:04:22.371689Z",
     "iopub.status.busy": "2023-10-02T12:04:22.370724Z",
     "iopub.status.idle": "2023-10-02T12:04:23.708058Z",
     "shell.execute_reply": "2023-10-02T12:04:23.707003Z",
     "shell.execute_reply.started": "2023-10-02T12:04:22.371657Z"
    },
    "id": "g0RmC91Qu9Sn",
    "jupyter": {
     "source_hidden": true
    },
    "outputId": "852163fa-a8ca-4b64-8461-f46f1dc775f0"
   },
   "outputs": [],
   "source": [
    "fig, ax  = plt.subplots(1,2, figsize=(14,7), sharey=True)\n",
    "\n",
    "sns.barplot(data=train_.fillna('NaN'), x='lead_source', y='converted',\n",
    "            order=order(train_.fillna('NaN'),'lead_source'),\n",
    "            palette='viridis',\n",
    "            seed=2, ax=ax[0])\n",
    "ax[0].set_xticklabels(ax[0].get_xticklabels(), rotation=90)\n",
    "ax[0].set_title(f'Conversion Rate by Lead Source', loc='left', size=16)\n",
    "\n",
    "sns.barplot(data=train_.fillna('NaN'), x='how_did_you_hear_about_x_education', y='converted',\n",
    "                  order=order(train_.fillna('NaN'),'how_did_you_hear_about_x_education'),\n",
    "                  palette='viridis', seed=2)\n",
    "ax[1].set_xticklabels(ax[1].get_xticklabels(), rotation=90)\n",
    "ax[1].set_title(f'Conversion Rate by How Did You Hear About It', loc='left', size=16)\n",
    "\n",
    "plt.tight_layout()\n",
    "plt.show()"
   ]
  },
  {
   "cell_type": "markdown",
   "metadata": {
    "id": "nJM6ihj3vVzT"
   },
   "source": [
    "<div class=\"alert alert-info\" role=\"alert\">\n",
    "    <span style='font-family:sans-serif'>\n",
    "        <b>Insights:</b><br>\n",
    "        <ol>\n",
    "           Both columns present similar information. In that case, Lead Source seems to be a better potential predictor because of the lack of missing values. We'll keep only Lead Source.\n",
    "        </ol>\n",
    "    </span>\n",
    "</div>\n",
    "\n",
    "<div class=\"alert alert-success\" role=\"alert\">\n",
    "    <span style='font-family:sans-serif'>\n",
    "        <b>Business Suggestion:</b><br>\n",
    "        <ol>\n",
    "            Referrals, with a 90% conversion rate, are a top-performing lead source due to their trustworthiness. To capitalize on this potential, the business should incentivize, personalize, track, showcase testimonials, and leverage word-of-mouth marketing for effective growth.\n",
    "        </ol>\n",
    "    </span>\n",
    "</div>"
   ]
  },
  {
   "cell_type": "markdown",
   "metadata": {
    "id": "D5yRBUq-zt1F"
   },
   "source": [
    "## 5.2 Numeric variables"
   ]
  },
  {
   "cell_type": "code",
   "execution_count": null,
   "metadata": {
    "execution": {
     "iopub.execute_input": "2023-10-02T12:04:23.710406Z",
     "iopub.status.busy": "2023-10-02T12:04:23.709564Z",
     "iopub.status.idle": "2023-10-02T12:04:23.728396Z",
     "shell.execute_reply": "2023-10-02T12:04:23.727046Z",
     "shell.execute_reply.started": "2023-10-02T12:04:23.710363Z"
    },
    "id": "XfU4XkpVs1GH",
    "jupyter": {
     "source_hidden": true
    },
    "outputId": "3a23d308-523a-4bed-93d2-9cd74d17b1ed"
   },
   "outputs": [],
   "source": [
    "train_.select_dtypes(include=['number']).nunique().sort_values()"
   ]
  },
  {
   "cell_type": "markdown",
   "metadata": {
    "id": "IYsjknOvyTzt"
   },
   "source": [
    "<div class=\"alert alert-warning\" role=\"alert\">\n",
    "    <span style='font-family:sans-serif'>\n",
    "        <b>Data Manipulation:</b><br>\n",
    "        <ol>\n",
    "            Almost all the numerical columns in the dataset represent binary outputs. But here's the catch: the vast majority of these columns have only one value, which is 0. That means they don't really offer any meaningful information to the model, and they're just cluttering up the dataset.\n",
    "            <b>Thus, it would be wise to drop these columns to improve model performance and reduce unnecessary noise in the data.</b>\n",
    "        </ol>\n",
    "    </span>\n",
    "</div>\n",
    "\n",
    "\n",
    "### 5.2.1 Columns related to web visits"
   ]
  },
  {
   "cell_type": "code",
   "execution_count": null,
   "metadata": {
    "execution": {
     "iopub.execute_input": "2023-10-02T12:04:23.730669Z",
     "iopub.status.busy": "2023-10-02T12:04:23.730188Z",
     "iopub.status.idle": "2023-10-02T12:04:25.018716Z",
     "shell.execute_reply": "2023-10-02T12:04:25.017875Z",
     "shell.execute_reply.started": "2023-10-02T12:04:23.730627Z"
    },
    "id": "Ymi_CEgwQ4xm",
    "jupyter": {
     "source_hidden": true
    },
    "outputId": "1433a155-1b10-4265-889d-a9fe4a2994b7"
   },
   "outputs": [],
   "source": [
    "fig, ax  = plt.subplots(3, figsize=(8,6))\n",
    "sns.barplot(data=train_, x='totalvisits', y='converted',\n",
    "            orient='h', palette='viridis',\n",
    "            seed=2, ax=ax[0])\n",
    "ax[0].set_title(f'Avg. Number of visits', loc='left', size=18)\n",
    "\n",
    "sns.barplot(data=train_, x='total_time_spent_on_website', y='converted',\n",
    "            orient='h', palette='viridis',\n",
    "            seed=2, ax=ax[1])\n",
    "ax[1].set_title(f'Avg. Time spent on website', loc='left', size=18)\n",
    "\n",
    "sns.barplot(data=train_, x='page_views_per_visit', y='converted',\n",
    "            orient='h', palette='viridis',\n",
    "            seed=2, ax=ax[2])\n",
    "ax[2].set_title(f'Avg. Page views per visit', loc='left', size=18)\n",
    "\n",
    "plt.tight_layout()\n",
    "plt.show()"
   ]
  },
  {
   "cell_type": "code",
   "execution_count": null,
   "metadata": {
    "execution": {
     "iopub.execute_input": "2023-10-02T12:04:25.020278Z",
     "iopub.status.busy": "2023-10-02T12:04:25.019835Z",
     "iopub.status.idle": "2023-10-02T12:04:25.708526Z",
     "shell.execute_reply": "2023-10-02T12:04:25.707723Z",
     "shell.execute_reply.started": "2023-10-02T12:04:25.020253Z"
    },
    "id": "f0QDo9UKNZfa",
    "jupyter": {
     "source_hidden": true
    },
    "outputId": "30819639-2523-488e-8120-059c5be351fc"
   },
   "outputs": [],
   "source": [
    "fig, ax = plt.subplots(3,1, figsize=(8,6))\n",
    "sns.boxplot(data=train_, x='totalvisits',\n",
    "              ax=ax[0], palette='viridis')\n",
    "ax[0].set_title('Total Visits', loc='left', size=16)\n",
    "\n",
    "sns.boxplot(data=train_, x='total_time_spent_on_website',\n",
    "              ax=ax[1], palette='viridis')\n",
    "ax[1].set_title('Time spent on web', loc='left', size=16)\n",
    "\n",
    "sns.boxplot(data=train_, x='page_views_per_visit',\n",
    "              ax=ax[2], palette='viridis')\n",
    "ax[2].set_title('Page views per visit', loc='left', size=16)\n",
    "\n",
    "plt.tight_layout()\n",
    "plt.show()"
   ]
  },
  {
   "cell_type": "markdown",
   "metadata": {
    "id": "BPPLtxM4RqX6"
   },
   "source": [
    "<div class=\"alert alert-info\" role=\"alert\">\n",
    "    <span style='font-family:sans-serif'>\n",
    "        <b>Insights:</b><br>\n",
    "        <ol>\n",
    "            <li>There's a significant difference in conversion rate among both groups.</li>\n",
    "            <li>Leads that convert more spent much more time on the website.</li>\n",
    "        </ol>\n",
    "    </span>\n",
    "</div>\n",
    "\n",
    "<div class=\"alert alert-success\" role=\"alert\">\n",
    "    <span style='font-family:sans-serif'>\n",
    "        <b>Business Suggestion:</b><br>\n",
    "        <ol>\n",
    "            To capitalize on this insight, we should enhance website engagement, optimize CTAs, and tailor content and offers based on lead preferences. Improving website navigation and implementing personalized lead nurturing campaigns can also boost conversion rates. Continuously monitoring performance and conducting A/B tests will allow for iterative improvements and better lead conversion outcomes.\n",
    "        </ol>\n",
    "    </span>\n",
    "</div>"
   ]
  },
  {
   "cell_type": "markdown",
   "metadata": {
    "id": "s_aFkjQ3zfYh"
   },
   "source": [
    "<a id=\"7\"></a>\n",
    "# <p style=\"background-color:#5DA688;font-family:sans-serif;color:#FFFFFF;font-size:140%;text-align:left;border-radius:8px 8px;\">7. Data Wrangling</p>\n",
    "\n",
    "\n",
    "**Outliers Treatment:**\n",
    "\n",
    "Addressing outliers in `TotalVisits` and `Page Views Per Visit` is essential for model performance, particularly in Logistic Regression. Capping these variables at the 95th percentile is recommended for model stability and preventing inflated coefficients. It enhances model generalization in various classification models like Decision Trees, Random Forests, and Support Vector Machines.\n",
    "\n",
    "**Missing Values Strategy:**\n",
    "\n",
    "* Numeric Columns (`KNN Imputation`): Utilizing KNNImputer for imputing missing values in Total Visits and Page Views Per Visit is a preferable choice over median, mean, or mode imputation. KNNImputer considers feature relationships, preserving data distribution, and handling multicollinearity effectively.\n",
    "<br>\n",
    "\n",
    "* Categorical Columns (Missing Category): Treating missing values as a separate category, rather than imputing with the mode, maintains data integrity, avoids biases, and improves model reliability and accuracy, especially considering the significant difference in conversion rate between leads with missing records and others."
   ]
  },
  {
   "cell_type": "markdown",
   "metadata": {
    "id": "Qo1VBNn83rW7"
   },
   "source": [
    "## 7.1 Feature Engineer"
   ]
  },
  {
   "cell_type": "markdown",
   "metadata": {
    "_kg_hide-input": true,
    "id": "sBmqi3Tx3u56"
   },
   "source": [
    "**Let's apply all the insights discovered during EDA.**"
   ]
  },
  {
   "cell_type": "code",
   "execution_count": null,
   "metadata": {
    "execution": {
     "iopub.execute_input": "2023-10-02T11:01:47.779173Z",
     "iopub.status.busy": "2023-10-02T11:01:47.778781Z",
     "iopub.status.idle": "2023-10-02T11:01:47.791841Z",
     "shell.execute_reply": "2023-10-02T11:01:47.79101Z",
     "shell.execute_reply.started": "2023-10-02T11:01:47.779143Z"
    },
    "id": "YUhtcHkn2_JZ",
    "jupyter": {
     "source_hidden": true
    }
   },
   "outputs": [],
   "source": [
    "def eda_feature_engineering(df):\n",
    "  # tags column\n",
    "  df['tags'] = df['tags'].str.replace('|'.join(['invalid number','wrong number given','number not provided']),'Not interest in calls')\n",
    "  df['tags'] = df['tags'].str.replace('|'.join([\"In confusion whether part time or DLP\", \"Interested in Next batch\", \"Shall take in the next coming month\", \"Still Thinking\"]), \"Shows certain interest\")\n",
    "  df['tags'] = df['tags'].str.replace(\"University not recognized\",\"Not elegible\")\n",
    "  df['tags'] = df[df['tags'].notnull()].tags.apply(lambda x: 'Not elegible' if 'holder' in x else x)\n",
    "  df['tags'] = df['tags'].str.replace('|'.join([\"Interested in other courses\", \"Interested  in full time MBA\", \"Not doing further education\"]),\"Doesn't show interest\")\n",
    "  df['tags'] = df['tags'].str.replace('|'.join([\"Ringing\",\"switched off\"]),\"Still no contact\")\n",
    "  df['tags'] = df['tags'].str.replace('|'.join([\"Want to take admission but has financial problems\", \"Graduation in progress\"]),\"Not elegible for the moment\")\n",
    "  df['tags'] = df[df['tags'].notnull()].tags.apply(lambda x: 'Not elegible for the moment' if 'Recognition' in x else x)\n",
    "  df['tags'] = df[df['tags'].notnull()].tags.apply(lambda x: 'Other' if x not in df.tags.value_counts(dropna=False)[:12] else x)\n",
    "\n",
    "  # country and city\n",
    "  indian_cities = ['Mumbai','Thane & Outskirts','Other Cities of Maharashtra','Tier II Cities']\n",
    "  df.loc[(df.country != 'India') & (df.city.isin(indian_cities)),'country'] = 'India'\n",
    "  df['country'] = df.loc[df['country'].notnull(),'country'].apply(lambda x: 'Other' if x not in df.loc[df['country'] != 'Other','country'].value_counts()[:4] else x)\n",
    "\n",
    "  # lead quality\n",
    "  df['lead_quality'] = df['lead_quality'].fillna('Not Sure')\n",
    "\n",
    "  # convert asymmetrique index columns in strings columns\n",
    "  df[['asymmetrique_profile_index','asymmetrique_activity_index']] = df[['asymmetrique_profile_index','asymmetrique_activity_index']].astype(str)\n",
    "\n",
    "  # drop columns with unique values\n",
    "  drop_cols = ['magazine','receive_more_updates_about_our_courses','update_me_on_supply_chain_content',\n",
    "               'get_updates_on_dm_content','i_agree_to_pay_the_amount_through_cheque']\n",
    "  df = df.drop(drop_cols, axis=1)\n",
    "\n",
    "  #add amount_missing column\n",
    "  df['amount_missing'] = df.isnull().sum(1)\n",
    "  return df\n",
    "\n",
    "eda_feature_engineering = FunctionTransformer(eda_feature_engineering)"
   ]
  },
  {
   "cell_type": "markdown",
   "metadata": {
    "id": "UNCR9RBW36tZ"
   },
   "source": [
    "## 7.2 Handling Outliers"
   ]
  },
  {
   "cell_type": "code",
   "execution_count": null,
   "metadata": {
    "execution": {
     "iopub.execute_input": "2023-10-02T11:01:48.958632Z",
     "iopub.status.busy": "2023-10-02T11:01:48.958228Z",
     "iopub.status.idle": "2023-10-02T11:01:48.965966Z",
     "shell.execute_reply": "2023-10-02T11:01:48.964805Z",
     "shell.execute_reply.started": "2023-10-02T11:01:48.958602Z"
    },
    "id": "21LHZwNv3-nA",
    "jupyter": {
     "source_hidden": true
    }
   },
   "outputs": [],
   "source": [
    "def cap_outliers(df):\n",
    "  \"\"\"Replace outliers with the 95th percentile\"\"\"\n",
    "  num_cols = ['totalvisits','page_views_per_visit','total_time_spent_on_website']\n",
    "  df[num_cols[0]].apply(lambda x: df[num_cols[0]].quantile(.95) if x > df[num_cols[0]].quantile(.95) else x)\n",
    "  df[num_cols[1]].apply(lambda x: df[num_cols[1]].quantile(.95) if x > df[num_cols[1]].quantile(.95) else x)\n",
    "  df[num_cols[2]].apply(lambda x: df[num_cols[2]].quantile(.95) if x > df[num_cols[2]].quantile(.95) else x)\n",
    "  return df\n",
    "\n",
    "cap_outliers = FunctionTransformer(cap_outliers);"
   ]
  },
  {
   "cell_type": "markdown",
   "metadata": {
    "id": "UPDZqNeS3-Yg"
   },
   "source": [
    "## 7.3 Handling missing values and scaling columns for modeling\n",
    "1. Apply `OneHotEncoder` to all the categorical columns.\n",
    "2. Apply `StandardScaler` to the numeric columns if there aren't binary.\n",
    "\n",
    "<div class=\"alert alert-warning\" role=\"alert\">\n",
    "    <span style='font-family:sans-serif'>\n",
    "        <b>Note:</b><br>\n",
    "        In the remainder='drop' process, we'll be removing the following columns, as identified during the EDA:\n",
    "        <ul>\n",
    "            <li>'asymmetrique_profile_index'</li>\n",
    "            <li>'asymmetrique_activity_index'</li>\n",
    "            <li>'lead_profile'</li>\n",
    "            <li>'last_activity'</li>\n",
    "            <li>'specialization'</li>\n",
    "            <li>'how_did_you_hear_about_x_education'</li>\n",
    "        </ul>\n",
    "    </span>\n",
    "</div>\n"
   ]
  },
  {
   "cell_type": "code",
   "execution_count": null,
   "metadata": {
    "execution": {
     "iopub.execute_input": "2023-10-02T11:01:49.748188Z",
     "iopub.status.busy": "2023-10-02T11:01:49.747743Z",
     "iopub.status.idle": "2023-10-02T11:01:49.75444Z",
     "shell.execute_reply": "2023-10-02T11:01:49.753513Z",
     "shell.execute_reply.started": "2023-10-02T11:01:49.748156Z"
    },
    "id": "Y1hwJsQo4El2",
    "jupyter": {
     "source_hidden": true
    }
   },
   "outputs": [],
   "source": [
    "cat_columns = ['lead_origin','lead_source','country','what_is_your_current_occupation',\n",
    "                'what_matters_most_to_you_in_choosing_a_course','tags','lead_quality',\n",
    "                'city','last_notable_activity']\n",
    "\n",
    "num_cols = ['totalvisits','page_views_per_visit','total_time_spent_on_website',\n",
    "            'asymmetrique_activity_score','asymmetrique_profile_score','amount_missing']\n",
    "\n",
    "impute_knn = KNNImputer(n_neighbors=5)\n",
    "impute_cons = SimpleImputer(strategy='constant', fill_value='Missing')\n",
    "ohe = OneHotEncoder(handle_unknown='ignore')\n",
    "sc = StandardScaler()\n",
    "\n",
    "# Make pipelines for both type of columns treatments\n",
    "pipe_cat = make_pipeline(impute_cons,ohe)\n",
    "pipe_num = make_pipeline(sc,impute_knn)\n",
    "\n",
    "impute_scale = make_column_transformer(\n",
    "                                        (pipe_cat, cat_columns),\n",
    "                                        (pipe_num,num_cols),\n",
    "                                        remainder='drop'\n",
    "                                            )"
   ]
  },
  {
   "cell_type": "markdown",
   "metadata": {
    "id": "b0rCZy04LZoB"
   },
   "source": [
    "## 7.5 Separate X and Y"
   ]
  },
  {
   "cell_type": "code",
   "execution_count": null,
   "metadata": {
    "execution": {
     "iopub.execute_input": "2023-10-02T11:01:50.567411Z",
     "iopub.status.busy": "2023-10-02T11:01:50.567033Z",
     "iopub.status.idle": "2023-10-02T11:01:50.576108Z",
     "shell.execute_reply": "2023-10-02T11:01:50.574921Z",
     "shell.execute_reply.started": "2023-10-02T11:01:50.567382Z"
    },
    "id": "RD0AZT_XYZWR",
    "jupyter": {
     "source_hidden": true
    }
   },
   "outputs": [],
   "source": [
    "X_train = train.drop('Converted',axis=1)\n",
    "y_train = train.loc[:,'Converted']"
   ]
  },
  {
   "cell_type": "markdown",
   "metadata": {
    "id": "KWIjb_1kOqNj"
   },
   "source": [
    "## 7.6 Create an entire pipeline for all preprocessing steps!\n",
    "Creating a comprehensive preprocessing pipeline for ML is essential for consistency, efficiency, and reproducibility. It prevents data leakage, simplifies scaling, and integrates hyperparameter tuning seamlessly. Such a pipeline also aids in model deployment, enhancing performance, and maintaining a reliable ML workflow."
   ]
  },
  {
   "cell_type": "code",
   "execution_count": null,
   "metadata": {
    "execution": {
     "iopub.execute_input": "2023-10-02T11:01:50.89009Z",
     "iopub.status.busy": "2023-10-02T11:01:50.889744Z",
     "iopub.status.idle": "2023-10-02T11:01:50.972488Z",
     "shell.execute_reply": "2023-10-02T11:01:50.971309Z",
     "shell.execute_reply.started": "2023-10-02T11:01:50.890065Z"
    },
    "id": "FFZE798fIZw-",
    "jupyter": {
     "source_hidden": true
    },
    "outputId": "a7b341ef-90fb-4ff2-e669-85fb759a7680"
   },
   "outputs": [],
   "source": [
    "pipe = make_pipeline(\n",
    "                    initial_clean,\n",
    "                    initial_feature_engineering,\n",
    "                    eda_feature_engineering,\n",
    "                    cap_outliers,\n",
    "                    impute_scale\n",
    "              )\n",
    "# Let's see how it looks\n",
    "pipe"
   ]
  },
  {
   "cell_type": "markdown",
   "metadata": {
    "id": "tYP-1RzzW_9w"
   },
   "source": [
    "<div class=\"alert alert-warning\" role=\"alert\">\n",
    "    <span style='font-family:sans-serif'>\n",
    "        <b>Note:</b><br>\n",
    "        Just a quick reminder, we've been working with a copy of the train dataset, so the original one is still in its raw form. Let's proceed to run the pipeline on the train dataset to preprocess and transform the data, preparing it for our machine learning algorithms.\n",
    "    </span>\n",
    "</div>\n"
   ]
  },
  {
   "cell_type": "code",
   "execution_count": null,
   "metadata": {
    "execution": {
     "iopub.execute_input": "2023-10-02T11:01:51.842904Z",
     "iopub.status.busy": "2023-10-02T11:01:51.842569Z",
     "iopub.status.idle": "2023-10-02T11:02:25.92419Z",
     "shell.execute_reply": "2023-10-02T11:02:25.923027Z",
     "shell.execute_reply.started": "2023-10-02T11:01:51.84288Z"
    },
    "id": "3T3pckurW_CO",
    "jupyter": {
     "source_hidden": true
    }
   },
   "outputs": [],
   "source": [
    "X_train_pp = pipe.fit_transform(X_train)"
   ]
  },
  {
   "cell_type": "markdown",
   "metadata": {
    "id": "OyitP1PnW5-6"
   },
   "source": [
    "<a id=\"8\"></a>\n",
    "# <p style=\"background-color:#5DA688;font-family:sans-serif;color:#FFFFFF;font-size:140%;text-align:left;border-radius:8px 8px;\">8. Modeling</p>\n",
    "We'll start by exploring models for potential strong performance. First, we'll evaluate them using cross-validation with stratified folds to maintain class proportions. The goal is to identify promising models before fine-tuning hyperparameters."
   ]
  },
  {
   "cell_type": "markdown",
   "metadata": {
    "id": "I9JycRy2qScf"
   },
   "source": [
    "----\n",
    "<div class=\"alert alert-success\" role=\"alert\">\n",
    "    <span style='font-family:sans-serif'>\n",
    "        <b>Let's Remember Our Initial Target:</b><br><br>\n",
    "        \"The CEO, in particular, has given a ballpark of the target lead conversion rate to be around 80.\"<br><br>\n",
    "        <b>So, with this in mind, we can select our most important performance measure.</b><br>\n",
    "        In this case, we want to ensure that a high percentage of predicted leads convert to a customer, which means we're looking for a high precision score.<br><br>\n",
    "        Does that mean we won't care about potential leads not detected (Low recall)?<br><br>\n",
    "        Not at all. If we tune our models to optimize only for precision, we might be very accurate in their positive predictions but miss many actual positive cases. This translates into leaving money on the table—potential customers that won't convert.\n",
    "    </span>\n",
    "</div>\n",
    "\n",
    "\n",
    "---"
   ]
  },
  {
   "cell_type": "markdown",
   "metadata": {
    "id": "9uxSFDB-ClB2"
   },
   "source": [
    "**Display function and SratifiedKFold**"
   ]
  },
  {
   "cell_type": "code",
   "execution_count": null,
   "metadata": {
    "execution": {
     "iopub.execute_input": "2023-10-02T11:02:25.926748Z",
     "iopub.status.busy": "2023-10-02T11:02:25.926284Z",
     "iopub.status.idle": "2023-10-02T11:02:25.934529Z",
     "shell.execute_reply": "2023-10-02T11:02:25.932477Z",
     "shell.execute_reply.started": "2023-10-02T11:02:25.926708Z"
    },
    "id": "iplDjG1gW7e2",
    "jupyter": {
     "source_hidden": true
    }
   },
   "outputs": [],
   "source": [
    "# Use stratified fold for ensure that we shuffle the dataset and conserve classes\n",
    "skfold = StratifiedKFold(5, shuffle=True, random_state=12)\n",
    "\n",
    "def display_scores(model,scores,pred):\n",
    "  print(f'----------- {model} -----------')\n",
    "  print('')\n",
    "  print(\"------------------ Cross validation scores:\")\n",
    "  print(\"Scores:\", scores)\n",
    "  print(\"Mean:\", scores.mean())\n",
    "  print(\"Standard deviation:\", scores.std())\n",
    "  print('')\n",
    "  print(\"--------------- Scores in the training set:\")\n",
    "  print(\"Precision:\", precision_score(y_train,pred))\n",
    "  print(\"Recall:\", recall_score(y_train,pred))\n",
    "  print(\"F1 score:\", f1_score(y_train,pred))\n",
    "  print(\"ROC - AUC score:\", roc_auc_score(y_train,pred))"
   ]
  },
  {
   "cell_type": "markdown",
   "metadata": {
    "id": "YazrPHDPirFL"
   },
   "source": [
    "## 8.1 Logistic Regression"
   ]
  },
  {
   "cell_type": "code",
   "execution_count": null,
   "metadata": {
    "execution": {
     "iopub.execute_input": "2023-10-02T11:02:25.937071Z",
     "iopub.status.busy": "2023-10-02T11:02:25.936447Z",
     "iopub.status.idle": "2023-10-02T11:02:26.4871Z",
     "shell.execute_reply": "2023-10-02T11:02:26.485971Z",
     "shell.execute_reply.started": "2023-10-02T11:02:25.937034Z"
    },
    "id": "uIWHCQT0dSrk",
    "jupyter": {
     "source_hidden": true
    },
    "outputId": "53a2d1f8-9f82-48a4-8b2a-524e389e480b"
   },
   "outputs": [],
   "source": [
    "lr = LogisticRegression()\n",
    "lr_scores = cross_val_score(lr, X_train_pp, y_train,\n",
    "                            cv=skfold, scoring='f1')\n",
    "lr.fit(X_train_pp,y_train)\n",
    "lr_pred = lr.predict(X_train_pp)\n",
    "\n",
    "# Precision and recall curve\n",
    "lr_prec, lr_recall, lr_threshold = precision_recall_curve(y_train, lr_pred, pos_label=lr.classes_[1])\n",
    "lr_prdisplay = PrecisionRecallDisplay(precision=lr_prec, recall=lr_recall)\n",
    "\n",
    "# Display Scores\n",
    "display_scores('Logistic Regression',lr_scores,lr_pred)"
   ]
  },
  {
   "cell_type": "markdown",
   "metadata": {
    "id": "ZMxpO0YRm0sZ"
   },
   "source": [
    "## 8.2 Support Vector Machine"
   ]
  },
  {
   "cell_type": "code",
   "execution_count": null,
   "metadata": {
    "execution": {
     "iopub.execute_input": "2023-10-02T11:02:26.490096Z",
     "iopub.status.busy": "2023-10-02T11:02:26.489508Z",
     "iopub.status.idle": "2023-10-02T11:02:33.895097Z",
     "shell.execute_reply": "2023-10-02T11:02:33.894161Z",
     "shell.execute_reply.started": "2023-10-02T11:02:26.490069Z"
    },
    "id": "RkOndB2Rit8D",
    "jupyter": {
     "source_hidden": true
    },
    "outputId": "3fdf7c8f-6e4e-496b-b9f3-a078a5625fdb"
   },
   "outputs": [],
   "source": [
    "svc = SVC()\n",
    "svc_scores = cross_val_score(svc, X_train_pp, y_train,\n",
    "                             cv=skfold, scoring='f1')\n",
    "svc.fit(X_train_pp, y_train)\n",
    "svc_pred = svc.predict(X_train_pp)\n",
    "\n",
    "# Precision and recall curve\n",
    "svc_prec, svc_recall, svc_threshold = precision_recall_curve(y_train, svc_pred, pos_label=svc.classes_[1])\n",
    "svc_prdisplay = PrecisionRecallDisplay(precision=svc_prec, recall=svc_recall)\n",
    "\n",
    "# Display scores\n",
    "display_scores('Support Vector Machine',svc_scores,svc_pred)"
   ]
  },
  {
   "cell_type": "markdown",
   "metadata": {
    "id": "AlcsAjeonvCm"
   },
   "source": [
    "## 8.3 Decission Trees"
   ]
  },
  {
   "cell_type": "code",
   "execution_count": null,
   "metadata": {
    "execution": {
     "iopub.execute_input": "2023-10-02T11:02:33.897182Z",
     "iopub.status.busy": "2023-10-02T11:02:33.896086Z",
     "iopub.status.idle": "2023-10-02T11:02:34.599569Z",
     "shell.execute_reply": "2023-10-02T11:02:34.598431Z",
     "shell.execute_reply.started": "2023-10-02T11:02:33.897143Z"
    },
    "id": "_fxw_iAjnn4q",
    "jupyter": {
     "source_hidden": true
    },
    "outputId": "29a012c2-e6ff-43df-f305-54a74d054bee"
   },
   "outputs": [],
   "source": [
    "tree = DecisionTreeClassifier(random_state = 7)\n",
    "tree_scores = cross_val_score(tree, X_train_pp, y_train,\n",
    "                              cv=skfold, scoring='f1')\n",
    "tree.fit(X_train_pp, y_train)\n",
    "tree_pred = tree.predict(X_train_pp)\n",
    "\n",
    "# Precision and recall curve\n",
    "tree_prec, tree_recall, tree_threshold = precision_recall_curve(y_train, tree_pred, pos_label=tree.classes_[1])\n",
    "tree_prdisplay = PrecisionRecallDisplay(precision=tree_prec, recall=tree_recall)\n",
    "\n",
    "# Display scores\n",
    "display_scores('Decission Tree',tree_scores,tree_pred)"
   ]
  },
  {
   "cell_type": "markdown",
   "metadata": {
    "id": "BQI1W_lCoVwu"
   },
   "source": [
    "## 8.4 Random Forest"
   ]
  },
  {
   "cell_type": "code",
   "execution_count": null,
   "metadata": {
    "execution": {
     "iopub.execute_input": "2023-10-02T11:02:34.600874Z",
     "iopub.status.busy": "2023-10-02T11:02:34.600621Z",
     "iopub.status.idle": "2023-10-02T11:02:49.582758Z",
     "shell.execute_reply": "2023-10-02T11:02:49.581672Z",
     "shell.execute_reply.started": "2023-10-02T11:02:34.600853Z"
    },
    "id": "SNq0xGJyoLFn",
    "jupyter": {
     "source_hidden": true
    },
    "outputId": "62db5173-2e97-4d95-e3ba-be979940397e"
   },
   "outputs": [],
   "source": [
    "rf = RandomForestClassifier(random_state=10,\n",
    "                            oob_score=True)\n",
    "rf_scores = cross_val_score(rf, X_train_pp, y_train,\n",
    "                            cv=skfold, scoring='f1')\n",
    "rf.fit(X_train_pp, y_train)\n",
    "rf_pred = rf.predict(X_train_pp)\n",
    "rf_pred_proba = rf.predict_proba(X_train_pp)\n",
    "\n",
    "# Precision and recall curve\n",
    "rf_prec, rf_recall, rf_threshold = precision_recall_curve(y_train, rf_pred_proba[:,1], pos_label=rf.classes_[1])\n",
    "rf_prdisplay = PrecisionRecallDisplay(precision=rf_prec, recall=rf_recall)\n",
    "\n",
    "# Display scores\n",
    "display_scores('Random Forest',rf_scores,rf_pred)\n",
    "print('Oob score: ',rf.oob_score_)"
   ]
  },
  {
   "cell_type": "markdown",
   "metadata": {
    "id": "c9KgZ089p4Qs"
   },
   "source": [
    "## 8.5 Gradient Boosting"
   ]
  },
  {
   "cell_type": "code",
   "execution_count": null,
   "metadata": {
    "execution": {
     "iopub.execute_input": "2023-10-02T11:02:49.584769Z",
     "iopub.status.busy": "2023-10-02T11:02:49.584158Z",
     "iopub.status.idle": "2023-10-02T11:02:56.112903Z",
     "shell.execute_reply": "2023-10-02T11:02:56.111817Z",
     "shell.execute_reply.started": "2023-10-02T11:02:49.584741Z"
    },
    "id": "pX4AonzRpYEg",
    "jupyter": {
     "source_hidden": true
    },
    "outputId": "14b2c9d0-ce57-4622-ff30-45c24f31f2be"
   },
   "outputs": [],
   "source": [
    "xg = GradientBoostingClassifier(random_state=11)\n",
    "xg_scores = cross_val_score(xg, X_train_pp, y_train,\n",
    "                            cv=skfold, scoring='f1')\n",
    "xg.fit(X_train_pp, y_train)\n",
    "xg_pred = xg.predict(X_train_pp)\n",
    "\n",
    "# Precision and recall curve\n",
    "xg_prec, xg_recall, xg_threshold = precision_recall_curve(y_train, xg_pred, pos_label=xg.classes_[1])\n",
    "xg_prdisplay = PrecisionRecallDisplay(precision=xg_prec, recall=xg_recall)\n",
    "\n",
    "# Display scores\n",
    "display_scores('Gradient Boosting',xg_scores,xg_pred)"
   ]
  },
  {
   "cell_type": "markdown",
   "metadata": {
    "id": "ebt6Ho7M_5O2"
   },
   "source": [
    "<div class=\"alert alert-success\" role=\"alert\">\n",
    "    <span style='font-family:sans-serif'>\n",
    "        <b>First conclusions:</b><br><br>\n",
    "        Most models performed well, except for Decision Tree, which overfit. Cross-validation results showed a strong average F1 score of approximately 0.92, indicating robust generalization even with simpler models like Logistic Regression.<br><br>\n",
    "        <b>Achieving Our Initial Goal:</b><br>\n",
    "        We've reached our initial goal of exceeding an 80% precision threshold. To further improve the F1 Score, we'll focus on the top-performing models and fine-tune their hyperparameters.\n",
    "    </span>\n",
    "</div>\n"
   ]
  },
  {
   "cell_type": "markdown",
   "metadata": {
    "id": "vmQMDILaaARq"
   },
   "source": [
    "<a id=\"9\"></a>\n",
    "# <p style=\"background-color:#5DA688;font-family:sans-serif;color:#FFFFFF;font-size:140%;text-align:left;border-radius:8px 8px;\">9. Select the best models and tune them</p>"
   ]
  },
  {
   "cell_type": "markdown",
   "metadata": {
    "id": "7HyT1AVzJThb"
   },
   "source": [
    "## 9.1 Recall - Precision Curve for each model"
   ]
  },
  {
   "cell_type": "code",
   "execution_count": null,
   "metadata": {
    "execution": {
     "iopub.execute_input": "2023-10-02T11:02:56.114907Z",
     "iopub.status.busy": "2023-10-02T11:02:56.114277Z",
     "iopub.status.idle": "2023-10-02T11:02:56.465972Z",
     "shell.execute_reply": "2023-10-02T11:02:56.464965Z",
     "shell.execute_reply.started": "2023-10-02T11:02:56.114871Z"
    },
    "id": "XAyro5GEU68h",
    "jupyter": {
     "source_hidden": true
    },
    "outputId": "cfa48f40-cee4-46c5-de73-47511001bf9c"
   },
   "outputs": [],
   "source": [
    "fig, ax = plt.subplots(figsize=(8,5))\n",
    "lr_prdisplay.plot(ax=ax, label='Logistic Regression', color='blue', linewidth=2)\n",
    "svc_prdisplay.plot(ax=ax, label='Support Vector Classifier', color='green', linewidth=2)\n",
    "tree_prdisplay.plot(ax=ax, label='Decision Tree', color='red', linewidth=2, alpha=.9)\n",
    "rf_prdisplay.plot(ax=ax, label='Random Forest', color='purple', linewidth=2, alpha=.7)\n",
    "xg_prdisplay.plot(ax=ax, label='Gradient Boosting', color='orange', linewidth=2, alpha=.5)\n",
    "plt.title('Precision Recall Curve (training data)', size=16, loc='left')\n",
    "plt.show()"
   ]
  },
  {
   "cell_type": "markdown",
   "metadata": {
    "id": "_WkZysO_l7nx"
   },
   "source": [
    "## 9.2 Logistic Regression"
   ]
  },
  {
   "cell_type": "code",
   "execution_count": null,
   "metadata": {
    "execution": {
     "iopub.execute_input": "2023-10-02T11:02:56.468029Z",
     "iopub.status.busy": "2023-10-02T11:02:56.467593Z",
     "iopub.status.idle": "2023-10-02T11:05:06.090406Z",
     "shell.execute_reply": "2023-10-02T11:05:06.089281Z",
     "shell.execute_reply.started": "2023-10-02T11:02:56.467992Z"
    },
    "id": "ihtcj1SwYwkZ",
    "jupyter": {
     "source_hidden": true
    },
    "outputId": "eb8e2e2d-6c2f-4285-d402-612b0224571b"
   },
   "outputs": [],
   "source": [
    "lr_params = [\n",
    "              {'C': uniform(loc=0, scale=4),\n",
    "              'penalty': ['l1','l2'],\n",
    "              'solver': ['liblinear','saga']}\n",
    "              ]\n",
    "\n",
    "lr_randomcv = RandomizedSearchCV(lr, lr_params, cv=skfold,\n",
    "                                 scoring='f1',\n",
    "                                 return_train_score = True,\n",
    "                                 random_state = 10,\n",
    "                                 n_iter=100)\n",
    "\n",
    "lr_randomcv.fit(X_train_pp, y_train)\n",
    "\n",
    "print(\"---------------- Logistic Regression ---------------\")\n",
    "print(\"Best Parameters: \", lr_randomcv.best_params_)\n",
    "print(\"Best Score: \", lr_randomcv.best_score_)"
   ]
  },
  {
   "cell_type": "markdown",
   "metadata": {
    "id": "4HJ-YxOll47q"
   },
   "source": [
    "## 9.3 Random Forest"
   ]
  },
  {
   "cell_type": "code",
   "execution_count": null,
   "metadata": {
    "execution": {
     "iopub.execute_input": "2023-10-02T11:05:06.095284Z",
     "iopub.status.busy": "2023-10-02T11:05:06.094406Z",
     "iopub.status.idle": "2023-10-02T11:28:36.246067Z",
     "shell.execute_reply": "2023-10-02T11:28:36.244831Z",
     "shell.execute_reply.started": "2023-10-02T11:05:06.095241Z"
    },
    "id": "LEG0qv_TeASo",
    "jupyter": {
     "source_hidden": true
    },
    "outputId": "1730c220-af15-4d7c-bf85-00bad1c9713f"
   },
   "outputs": [],
   "source": [
    "rf_params = [{\n",
    "              'n_estimators': np.arange(50,500,50),\n",
    "              'criterion': ['gini','entropy','logloss'],\n",
    "              'max_depth': np.arange(2,14,2),\n",
    "              'max_features': ['sqrt','log2',None, 0.5],\n",
    "              }]\n",
    "\n",
    "rf_randomcv = RandomizedSearchCV(rf, rf_params, cv=skfold,\n",
    "                                 scoring='f1',\n",
    "                                 return_train_score = True,\n",
    "                                 random_state = 10,\n",
    "                                 n_iter=100)\n",
    "\n",
    "rf_randomcv.fit(X_train_pp, y_train)\n",
    "\n",
    "print(\"----------------- Random Forest ----------------\")\n",
    "print(\"Best Parameters: \", rf_randomcv.best_params_)\n",
    "print(\"Best Score: \", rf_randomcv.best_score_)"
   ]
  },
  {
   "cell_type": "markdown",
   "metadata": {
    "id": "JA8nY7s2l1Ik"
   },
   "source": [
    "## 9.4 Gradient Boosting"
   ]
  },
  {
   "cell_type": "code",
   "execution_count": null,
   "metadata": {
    "execution": {
     "iopub.execute_input": "2023-10-02T11:28:36.247765Z",
     "iopub.status.busy": "2023-10-02T11:28:36.247481Z",
     "iopub.status.idle": "2023-10-02T11:48:14.093572Z",
     "shell.execute_reply": "2023-10-02T11:48:14.092509Z",
     "shell.execute_reply.started": "2023-10-02T11:28:36.247741Z"
    },
    "id": "drBKkGXSgK-l",
    "jupyter": {
     "source_hidden": true
    },
    "outputId": "55de9dfc-b5e7-4895-93e2-835a270b798a"
   },
   "outputs": [],
   "source": [
    "xg_params = [{\n",
    "              'n_estimators': np.arange(50,500,50),\n",
    "              'loss': ['exponential','log_loss'],\n",
    "              'max_depth': np.arange(2,14,2),\n",
    "              'criterion': ['friedman_mse', 'squared_error'],\n",
    "              'learning_rate': uniform(loc=0,scale=.5),\n",
    "              'max_features': ['sqrt', 'log2', None, 0.5]\n",
    "              }]\n",
    "\n",
    "xg_randomcv = RandomizedSearchCV(xg, xg_params, cv=skfold,\n",
    "                                 scoring='f1',\n",
    "                                 return_train_score = True,\n",
    "                                 random_state = 10,\n",
    "                                 n_iter=50)\n",
    "\n",
    "xg_randomcv.fit(X_train_pp, y_train)\n",
    "\n",
    "print(\"--------------- Gradient Boosting --------------\")\n",
    "print(\"Best Parameters: \", xg_randomcv.best_params_)\n",
    "print(\"Best Score: \", xg_randomcv.best_score_)"
   ]
  },
  {
   "cell_type": "markdown",
   "metadata": {
    "id": "Xrvb9OP8IgrF"
   },
   "source": [
    "<div class=\"alert alert-success\" role=\"alert\">\n",
    "    <span style='font-family:sans-serif'>\n",
    "        <b>Performance Overview:</b><br>\n",
    "        The performance of all three models remains consistently impressive. Notably, the Random Forest model achieved the highest score, albeit with a slight improvement. Every increase counts, and in this case, a marginal gain of approximately 0.50% in the F1 score underscores its suitability for prediction on the test dataset.\n",
    "    </span>\n",
    "</div>\n"
   ]
  },
  {
   "cell_type": "markdown",
   "metadata": {
    "id": "ShVVrLn5l0ID"
   },
   "source": [
    "<a id=\"10\"></a>\n",
    "# <p style=\"background-color:#5DA688;font-family:sans-serif;color:#FFFFFF;font-size:140%;text-align:left;border-radius:8px 8px;\">10. Make our predictions</p>\n",
    "At this point, we've already:\n",
    "\n",
    "1. Completed the entire data preprocessing and exploration.\n",
    "2. We exclusively used the training dataset to eliminate any potential human bias.\n",
    "3. Additionally, we've incorporated all the preprocessing steps into a pipeline to prevent any data leakage.\n",
    "4. Next, we selected the most promising models (without tuning) and applied cross-validation to assess their performance.\n",
    "5. Following that, we fine-tuned those models using RandomizedSearchCV and identified the best one.\n",
    "\n",
    "By following these steps, we ensure that the data will be treated as if it were completely new. Now, we're all set to apply the entire pipeline and predict the lead scores using the test dataset!"
   ]
  },
  {
   "cell_type": "markdown",
   "metadata": {
    "id": "FADMT6FsFpJY"
   },
   "source": [
    "## 10.1 Apply al the preprocessing pipeline to the test dataset"
   ]
  },
  {
   "cell_type": "code",
   "execution_count": null,
   "metadata": {
    "execution": {
     "iopub.execute_input": "2023-10-02T11:48:14.09555Z",
     "iopub.status.busy": "2023-10-02T11:48:14.094866Z",
     "iopub.status.idle": "2023-10-02T11:48:14.105498Z",
     "shell.execute_reply": "2023-10-02T11:48:14.104688Z",
     "shell.execute_reply.started": "2023-10-02T11:48:14.095523Z"
    },
    "id": "rOHaVrecirzq",
    "jupyter": {
     "source_hidden": true
    },
    "outputId": "4763130e-8a48-475a-c74d-366fab20e83d"
   },
   "outputs": [],
   "source": [
    "X_test = test.drop('Converted',axis=1)\n",
    "y_test = test.loc[:,'Converted']\n",
    "\n",
    "# Let's take a look of the first row\n",
    "X_test.to_numpy()[:1]"
   ]
  },
  {
   "cell_type": "code",
   "execution_count": null,
   "metadata": {
    "execution": {
     "iopub.execute_input": "2023-10-02T11:48:14.107796Z",
     "iopub.status.busy": "2023-10-02T11:48:14.106994Z",
     "iopub.status.idle": "2023-10-02T11:48:20.98055Z",
     "shell.execute_reply": "2023-10-02T11:48:20.979573Z",
     "shell.execute_reply.started": "2023-10-02T11:48:14.107757Z"
    },
    "id": "szxia6Y-yTYH",
    "jupyter": {
     "source_hidden": true
    },
    "outputId": "ef536bca-f94f-4156-ee63-8295cc5bfe8e"
   },
   "outputs": [],
   "source": [
    "# apply all the preprocessing steps to the test dataset\n",
    "X_test_pp = pipe.transform(X_test)\n",
    "X_test_pp.toarray()[:1]"
   ]
  },
  {
   "cell_type": "markdown",
   "metadata": {
    "id": "EsQOZV4XBmaJ"
   },
   "source": [
    "## 10.2 Random Forest with hyperparameter tuned"
   ]
  },
  {
   "cell_type": "code",
   "execution_count": null,
   "metadata": {
    "execution": {
     "iopub.execute_input": "2023-10-02T11:48:20.982488Z",
     "iopub.status.busy": "2023-10-02T11:48:20.981958Z",
     "iopub.status.idle": "2023-10-02T11:48:21.096006Z",
     "shell.execute_reply": "2023-10-02T11:48:21.095205Z",
     "shell.execute_reply.started": "2023-10-02T11:48:20.982446Z"
    },
    "id": "6jhqcSZr-2I1",
    "jupyter": {
     "source_hidden": true
    },
    "outputId": "d0ce03e0-83a2-4f71-b9d7-204c8dda9e98"
   },
   "outputs": [],
   "source": [
    "rf_rcv_pred = rf_randomcv.predict(X_test_pp)\n",
    "print(\"Precision:\", precision_score(y_test,rf_rcv_pred))\n",
    "print(\"Recall:\", recall_score(y_test,rf_rcv_pred))\n",
    "print(\"F1 score:\", f1_score(y_test,rf_rcv_pred))\n",
    "print(\"ROC - AUC score:\", roc_auc_score(y_test,rf_rcv_pred))"
   ]
  },
  {
   "cell_type": "markdown",
   "metadata": {
    "id": "uhD1JLh5BvfP"
   },
   "source": [
    "## 10.3 Random Forest without hyperparameter tuned"
   ]
  },
  {
   "cell_type": "code",
   "execution_count": null,
   "metadata": {
    "execution": {
     "iopub.execute_input": "2023-10-02T11:48:21.097777Z",
     "iopub.status.busy": "2023-10-02T11:48:21.09703Z",
     "iopub.status.idle": "2023-10-02T11:48:21.151464Z",
     "shell.execute_reply": "2023-10-02T11:48:21.150266Z",
     "shell.execute_reply.started": "2023-10-02T11:48:21.097749Z"
    },
    "id": "_0bKPTxj_68I",
    "jupyter": {
     "source_hidden": true
    },
    "outputId": "5730c42a-3944-4f7d-95ba-c02c2ed8d2b6"
   },
   "outputs": [],
   "source": [
    "rf_pred_test = rf.predict(X_test_pp)\n",
    "print(\"Precision:\", precision_score(y_test,rf_pred_test))\n",
    "print(\"Recall:\", recall_score(y_test,rf_pred_test))\n",
    "print(\"F1 score:\", f1_score(y_test,rf_pred_test))\n",
    "print(\"ROC - AUC score:\", roc_auc_score(y_test,rf_pred_test))"
   ]
  },
  {
   "cell_type": "markdown",
   "metadata": {
    "id": "4r1oroBDJS5r"
   },
   "source": [
    "Upon closer examination, a marginal improvement of 0.0006 in F1 score appears evident in the untuned model. However, as previously emphasized, our focus primarily rested on elevating precision rather than recall. Given the subtle disparity in F1 scores, the preference leans towards the tuned model. This decision stems from a higher increase of roughly 0.0079 in precision, aligning well with our objectives and priorities."
   ]
  },
  {
   "cell_type": "markdown",
   "metadata": {
    "id": "f5ohSrR8DI6n"
   },
   "source": [
    "## 10.4 Let's plot the confussion matrix for both models!"
   ]
  },
  {
   "cell_type": "code",
   "execution_count": null,
   "metadata": {
    "execution": {
     "iopub.execute_input": "2023-10-02T11:48:21.153155Z",
     "iopub.status.busy": "2023-10-02T11:48:21.152867Z",
     "iopub.status.idle": "2023-10-02T11:48:21.506881Z",
     "shell.execute_reply": "2023-10-02T11:48:21.505685Z",
     "shell.execute_reply.started": "2023-10-02T11:48:21.15313Z"
    },
    "id": "6hk4yZmJAbG6",
    "jupyter": {
     "source_hidden": true
    },
    "outputId": "c86d0cb7-4e3f-4459-d35a-7ed4d67b59f6"
   },
   "outputs": [],
   "source": [
    "fig, ax = plt.subplots(1, 2, figsize=(12, 5))\n",
    "\n",
    "# Random Forest tunned\n",
    "cm1 = confusion_matrix(y_test, rf_rcv_pred)\n",
    "sns.heatmap(cm1, annot=True, fmt = 'd', cmap='Greens', ax = ax[0], cbar=False)\n",
    "ax[0].xaxis.set_ticklabels(['Not converted', 'Converted'])\n",
    "ax[0].yaxis.set_ticklabels(['Not converted', 'Converted'])\n",
    "ax[0].set_title('RF with hyperparameters tuning', loc='left')\n",
    "ax[0].set_xlabel('Predicted')\n",
    "ax[0].set_ylabel('True')\n",
    "\n",
    "# Random Forest without tuning\n",
    "cm2 = confusion_matrix(y_test, rf_pred_test)\n",
    "sns.heatmap(cm2, annot=True, fmt='d', cmap='Blues', ax=ax[1], cbar=False)\n",
    "ax[1].xaxis.set_ticklabels(['Not converted', 'Converted'])\n",
    "ax[1].yaxis.set_ticklabels(['Not converted', 'Converted'])\n",
    "ax[1].set_title('RF without hyperparameters tuning', loc='left')\n",
    "ax[1].set_xlabel('Predicted')\n",
    "ax[1].set_ylabel('True')\n",
    "\n",
    "plt.tight_layout()\n",
    "plt.show()"
   ]
  },
  {
   "cell_type": "markdown",
   "metadata": {
    "id": "Gcbhv6EGNcsQ"
   },
   "source": [
    "## 10.5 Submission"
   ]
  },
  {
   "cell_type": "markdown",
   "metadata": {
    "id": "cBf1--KeE8mI"
   },
   "source": [
    "**Class predictions in the left, and probabilities to convert into a customer on the right.**"
   ]
  },
  {
   "cell_type": "code",
   "execution_count": null,
   "metadata": {
    "execution": {
     "iopub.execute_input": "2023-10-02T11:48:21.508635Z",
     "iopub.status.busy": "2023-10-02T11:48:21.50827Z",
     "iopub.status.idle": "2023-10-02T11:48:21.616395Z",
     "shell.execute_reply": "2023-10-02T11:48:21.61514Z",
     "shell.execute_reply.started": "2023-10-02T11:48:21.508606Z"
    },
    "id": "dkd83rQUMYwt",
    "jupyter": {
     "source_hidden": true
    },
    "outputId": "9d410382-0d79-4899-f46a-9a68b03e97ea"
   },
   "outputs": [],
   "source": [
    "lead_scoring = rf_randomcv.predict_proba(X_test_pp)[:,1]\n",
    "lead_prediction = rf_rcv_pred\n",
    "results = np.round(np.c_[lead_prediction,lead_scoring],2)\n",
    "\n",
    "# Let's take a look of the first 10 rows\n",
    "results[:10]"
   ]
  },
  {
   "cell_type": "markdown",
   "metadata": {
    "id": "6YwsUa97FhyJ"
   },
   "source": [
    "<a id=\"11\"></a>\n",
    "# <p style=\"background-color:#5DA688;font-family:sans-serif;color:#FFFFFF;font-size:140%;text-align:left;border-radius:8px 8px;\">11. Conclusions</p>"
   ]
  },
  {
   "cell_type": "markdown",
   "metadata": {
    "id": "e6tG2I7fKnDD"
   },
   "source": [
    "In summary, our data science project focused on fine-tuning lead scoring for X Education. We aimed to exceed an 80% precision goal, which we not only met but exceeded. Throughout our journey, we identified key factors like phone interactions, referrals, and online engagement that strongly correlated with lead conversion, leading to actionable strategies.\n",
    "\n",
    "One notable achievement was the development of an automated lead scoring algorithm that not only improved lead assessment precision but also streamlined operational efficiency. By targeting promising leads, X Education could reduce sales team costs significantly.\n",
    "\n",
    "Our journey involved thorough data exploration, preprocessing, and model development, ensuring consistency and mitigating bias. We systematically evaluated models, with the tuned Random Forest model achieving an impressive F1 score of 0.9287 and a precision score of 0.9527 on the test dataset.\n",
    "\n",
    "This data-driven journey provides X Education with actionable insights to enhance efficiency and revenue growth, positioning the company for a transformative phase.\n",
    "\n",
    "**If you've read until here, thank you. I hope you found this information helpful and interesting in some way. Your feedback is greatly appreciated. Best regards.**"
   ]
  },
  {
   "cell_type": "code",
   "execution_count": null,
   "metadata": {},
   "outputs": [],
   "source": []
  }
 ],
 "metadata": {
  "kaggle": {
   "accelerator": "none",
   "dataSources": [
    {
     "datasetId": 834948,
     "sourceId": 1425954,
     "sourceType": "datasetVersion"
    }
   ],
   "dockerImageVersionId": 30558,
   "isGpuEnabled": false,
   "isInternetEnabled": false,
   "language": "python",
   "sourceType": "notebook"
  },
  "kernelspec": {
   "display_name": "Python 3 (ipykernel)",
   "language": "python",
   "name": "python3"
  },
  "language_info": {
   "codemirror_mode": {
    "name": "ipython",
    "version": 3
   },
   "file_extension": ".py",
   "mimetype": "text/x-python",
   "name": "python",
   "nbconvert_exporter": "python",
   "pygments_lexer": "ipython3",
   "version": "3.12.8"
  }
 },
 "nbformat": 4,
 "nbformat_minor": 4
}
