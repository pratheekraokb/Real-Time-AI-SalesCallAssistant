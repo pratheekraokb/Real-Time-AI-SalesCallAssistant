{
 "cells": [
  {
   "cell_type": "markdown",
   "id": "fc0bc058-adac-4649-bb34-f266c8418a46",
   "metadata": {},
   "source": [
    "# Sentiment Analysis\n"
   ]
  },
  {
   "cell_type": "markdown",
   "id": "ea4977e0-ee1a-4222-961b-feb72243d0d6",
   "metadata": {},
   "source": [
    "Article:- https://towardsdatascience.com/sentiment-analysis-concept-analysis-and-applications-6c94d6f58c17"
   ]
  },
  {
   "cell_type": "markdown",
   "id": "a5b4c780-027e-4adc-a8cc-eaf78235d5e3",
   "metadata": {},
   "source": [
    "# Sentiment Analysis: Concept, Analysis and Applications\n",
    "\n",
    "## Shashank Gupta  \n",
    "**Towards Data Science**  \n",
    "Jan 7, 2018  \n",
    "2.1K Reads  \n",
    "\n",
    "---\n",
    "\n",
    "### Sentiment analysis is contextual mining of text which identifies and extracts subjective information in source material, helping a business to understand the social sentiment of their brand, product, or service while monitoring online conversations. However, analysis of social media streams is usually restricted to basic sentiment analysis and count-based metrics. \n",
    "\n",
    "With the recent advances in deep learning, the ability of algorithms to analyze text has improved considerably. Creative use of advanced artificial intelligence techniques can be an effective tool for doing in-depth research. This includes classifying customer conversations about a brand based on:\n",
    "\n",
    "- Key aspects of a brand’s product and service that customers care about.\n",
    "- Users’ underlying intentions and reactions concerning those aspects.\n",
    "\n",
    "These basic concepts become a vital tool for analyzing millions of brand conversations with human-level accuracy. Taking the example of Uber, Shashank demonstrates how this works through sentiment and intent analysis.\n",
    "\n",
    "### Text Classifier — The basic building blocks\n",
    "\n",
    "**Sentiment Analysis**  \n",
    "Analyzes an incoming message to determine whether the underlying sentiment is positive, negative, or neutral.\n",
    "\n",
    "**Intent Analysis**  \n",
    "Analyzes the user’s intention behind a message, identifying whether it relates to an opinion, news, marketing, complaint, suggestion, appreciation, or query.\n",
    "\n",
    "**Contextual Semantic Search (CSS)**  \n",
    "CSS filters messages based on context rather than just keywords, enabling a more accurate understanding of user interactions.\n",
    "\n",
    "### Uber: A deep dive analysis\n",
    "\n",
    "Uber, the highest valued start-up in the world, operates in more than 500 cities globally and handles a massive amount of feedback. Shashank analyzed online conversations regarding product themes: Cancel, Payment, Price, Safety, and Service.\n",
    "\n",
    "#### Facebook  \n",
    "**Sentiment Analysis**  \n",
    "- Majority of comments are negative, except for Price-related comments.\n",
    "- Positive comments about Price dropped from 46% to 29% after filtering irrelevant intent categories.\n",
    "\n",
    "#### Twitter  \n",
    "**Sentiment Analysis**  \n",
    "- Payment and Safety-related Tweets initially had mixed sentiments.\n",
    "- Significant reduction in positive Payment and Safety-related Tweets after filtering unrelated content.\n",
    "- Service-related Tweets had the lowest positive sentiment and the highest negative sentiment.\n",
    "\n",
    "#### News  \n",
    "**Sentiment Analysis for News Headlines**  \n",
    "- Safety was the most discussed topic with positive sentiment overall.\n",
    "- Articles were classified based on popularity, showing a mixture of positive and negative sentiments.\n",
    "\n",
    "---\n",
    "\n",
    "The age of meaningful insights from social media data has arrived with the advancement in AI, Deep Learning, and intelligent classifiers like Contextual Semantic Search and Sentiment Analysis. At Karna, you can license our technology or get a customized dashboard for generating meaningful insights from digital media.\n"
   ]
  },
  {
   "cell_type": "code",
   "execution_count": null,
   "id": "9c16cd58-ad21-4ab6-bb64-2f2354619ca3",
   "metadata": {},
   "outputs": [],
   "source": []
  }
 ],
 "metadata": {
  "kernelspec": {
   "display_name": "Python 3 (ipykernel)",
   "language": "python",
   "name": "python3"
  },
  "language_info": {
   "codemirror_mode": {
    "name": "ipython",
    "version": 3
   },
   "file_extension": ".py",
   "mimetype": "text/x-python",
   "name": "python",
   "nbconvert_exporter": "python",
   "pygments_lexer": "ipython3",
   "version": "3.12.8"
  }
 },
 "nbformat": 4,
 "nbformat_minor": 5
}
