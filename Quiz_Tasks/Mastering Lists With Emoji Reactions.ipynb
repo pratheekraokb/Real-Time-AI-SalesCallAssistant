{
 "cells": [
  {
   "cell_type": "markdown",
   "id": "4db720a4-1ec5-49c3-84b5-23448f6ff586",
   "metadata": {},
   "source": [
    "# Activities with Python Code Solutions"
   ]
  },
  {
   "cell_type": "markdown",
   "id": "c43c30fd-2966-4fc2-b36a-e1bc83b6c6b9",
   "metadata": {},
   "source": [
    "### Activity 1: Count the Total Number of Reactions"
   ]
  },
  {
   "cell_type": "code",
   "execution_count": 4,
   "id": "9542623d-8c10-4524-b99d-7b9453c05028",
   "metadata": {},
   "outputs": [
    {
     "name": "stdout",
     "output_type": "stream",
     "text": [
      "Total number of reactions: 0\n"
     ]
    }
   ],
   "source": [
    "reactions = []\n",
    "total_reactions = 0\n",
    "for reaction in reactions:\n",
    "    total_reactions += len(reaction[2])\n",
    "\n",
    "print(f\"Total number of reactions: {total_reactions}\")"
   ]
  },
  {
   "cell_type": "markdown",
   "id": "80c1bf70-b872-495b-951b-04959abb5828",
   "metadata": {},
   "source": [
    "### Activity 2: Find the message that has received the highest number of reactions"
   ]
  },
  {
   "cell_type": "code",
   "execution_count": 6,
   "id": "57939662-3531-4362-9f10-923173d7db0f",
   "metadata": {},
   "outputs": [],
   "source": [
    "def activity2():\n",
    "    message_reaction_count = []\n",
    "\n",
    "    for reaction in reactions:\n",
    "        message = reaction[1]\n",
    "        reaction_count = len(reaction[2])\n",
    "    \n",
    "        found = False\n",
    "    \n",
    "        for element in message_reaction_count:\n",
    "            if element[0] == message:\n",
    "                element[1] += reaction_count\n",
    "                found = True\n",
    "                break\n",
    "    \n",
    "        if not found:\n",
    "            message_reaction_count.append([message, reaction_count])\n",
    "    \n",
    "    sorted(message_reaction_count, key=lambda e: e[1], reverse=True)[0]\n"
   ]
  },
  {
   "cell_type": "markdown",
   "id": "e6ac65c0-4c48-4407-ac31-3d0032a9d3c9",
   "metadata": {},
   "source": [
    "### Activity 3: Find All Unique Reactions (Emojis)"
   ]
  },
  {
   "cell_type": "code",
   "execution_count": 8,
   "id": "db725419-7f45-4870-b106-33fb935dc1dc",
   "metadata": {},
   "outputs": [],
   "source": [
    "def activity3():\n",
    "    unique_emojis = []\n",
    "    for reaction in reactions:\n",
    "        emoji_list = reaction[2]\n",
    "        for emoji in emoji_list:\n",
    "            if emoji not in unique_emojis:\n",
    "                unique_emojis.append(emoji)\n",
    "    unique_emojis.sort()\n",
    "    print(f\"Unique reactions: {unique_emojis}\")\n"
   ]
  },
  {
   "cell_type": "markdown",
   "id": "7b19771c-de11-4168-ba98-14da34670a32",
   "metadata": {},
   "source": [
    "### Activity 4: How many emojis have not been reacted to?"
   ]
  },
  {
   "cell_type": "code",
   "execution_count": 9,
   "id": "064829a6-86cd-49b1-adb6-464ffbbe5642",
   "metadata": {},
   "outputs": [],
   "source": [
    "def activity4():\n",
    "    not_reacted_count = 0\n",
    "\n",
    "    for emoji_detail in emojis:\n",
    "        if emoji_detail[1] not in unique_emojis:\n",
    "            not_reacted_count += 1\n",
    "    \n",
    "    print(f\"Number of emojis not reacted to: {not_reacted_count}\")\n"
   ]
  },
  {
   "cell_type": "markdown",
   "id": "fea9c67b-60b9-4d8b-8246-2320c49dba25",
   "metadata": {},
   "source": [
    "### Activity 5: How many times 🎉(party popper) has been used?"
   ]
  },
  {
   "cell_type": "code",
   "execution_count": 11,
   "id": "6dbd35b2-3e4b-4044-8c48-ab4e6395a09d",
   "metadata": {},
   "outputs": [
    {
     "name": "stdout",
     "output_type": "stream",
     "text": [
      "Number of times 🎉 has been used: 0\n"
     ]
    }
   ],
   "source": [
    "party_popper_count = 0\n",
    "\n",
    "for reaction in reactions:\n",
    "    party_popper_count += reaction[2].count('🎉')\n",
    "\n",
    "print(f\"Number of times 🎉 has been used: {party_popper_count}\")\n"
   ]
  },
  {
   "cell_type": "markdown",
   "id": "f2567b31-e4e5-418a-b4b9-1df99ed311e5",
   "metadata": {},
   "source": [
    "### Activity 6: Identify messages that received no emoji reactions."
   ]
  },
  {
   "cell_type": "code",
   "execution_count": 12,
   "id": "1ed30124-671b-4d9d-9786-74bc60fa30f8",
   "metadata": {},
   "outputs": [
    {
     "name": "stdout",
     "output_type": "stream",
     "text": [
      "Messages without reactions: []\n"
     ]
    }
   ],
   "source": [
    "messages_without_reactions = []\n",
    "\n",
    "for message_and_count in message_reaction_count:\n",
    "    message = message_and_count[0]\n",
    "    reaction_count = message_and_count[1]\n",
    "    if reaction_count == 0 and message not in messages_without_reactions:\n",
    "        messages_without_reactions.append(message)\n",
    "\n",
    "messages_without_reactions.sort()\n",
    "print(f\"Messages without reactions: {messages_without_reactions}\")\n"
   ]
  },
  {
   "cell_type": "markdown",
   "id": "87820b86-863f-486c-8653-6c3c796a1c16",
   "metadata": {},
   "source": [
    "### Activity 7: How many reactions each person has made across all messages."
   ]
  },
  {
   "cell_type": "code",
   "execution_count": 13,
   "id": "c7922b35-eb22-4517-85e9-ebf02e597f41",
   "metadata": {},
   "outputs": [
    {
     "name": "stdout",
     "output_type": "stream",
     "text": [
      "Reactions per person: []\n"
     ]
    }
   ],
   "source": [
    "reactions_per_person = []\n",
    "for reaction in reactions:\n",
    "    person_name = reaction[0]\n",
    "    number_of_reactions = len(reaction[2])\n",
    "\n",
    "    person_found = False\n",
    "\n",
    "    for person in reactions_per_person:\n",
    "        if person[0] == person_name:\n",
    "            person[1] += number_of_reactions\n",
    "            person_found = True\n",
    "            break\n",
    "\n",
    "    if not person_found:\n",
    "        reactions_per_person.append([person_name, number_of_reactions])\n",
    "\n",
    "reactions_per_person.sort(key=lambda e: (-e[1], e[0]))\n",
    "\n",
    "print(f\"Reactions per person: {reactions_per_person}\")\n"
   ]
  },
  {
   "cell_type": "markdown",
   "id": "cf042d65-c79e-4512-9859-5386dcf7b2e3",
   "metadata": {},
   "source": [
    "### Activity 8: Find out who has reacted the most times across all messages."
   ]
  },
  {
   "cell_type": "code",
   "execution_count": 15,
   "id": "6dfb4874-fd84-4488-8946-43f5bbb808bc",
   "metadata": {},
   "outputs": [],
   "source": [
    "def activity8():\n",
    "    most_reactions_person = reactions_per_person[0]\n",
    "    print(f\"Person who reacted the most: {most_reactions_person[0]}, {most_reactions_person[1]}\")\n"
   ]
  },
  {
   "cell_type": "markdown",
   "id": "fdc68f84-0eda-44d4-97a2-669dc6ab456c",
   "metadata": {},
   "source": [
    "### Activity 9: Find All Messages Reacted to by a Specific Person"
   ]
  },
  {
   "cell_type": "code",
   "execution_count": 16,
   "id": "507ec41d-b59b-4abf-ada6-623cf3c35092",
   "metadata": {},
   "outputs": [
    {
     "name": "stdout",
     "output_type": "stream",
     "text": [
      "Messages reacted by Sophia: []\n"
     ]
    }
   ],
   "source": [
    "person_to_find = 'Sophia'\n",
    "messages_reacted_by_sophia = []\n",
    "\n",
    "for reaction in reactions:\n",
    "    person = reaction[0]\n",
    "    message = reaction[1]\n",
    "    if person == person_to_find and message not in messages_reacted_by_sophia:\n",
    "        messages_reacted_by_sophia.append(message)\n",
    "\n",
    "messages_reacted_by_sophia.sort()\n",
    "print(f\"Messages reacted by {person_to_find}: {messages_reacted_by_sophia}\")\n"
   ]
  },
  {
   "cell_type": "markdown",
   "id": "6179d87b-2f45-4f2f-a116-c031d8ee761f",
   "metadata": {},
   "source": [
    "### Activity 10: Identify the most frequently used emoji across all reactions."
   ]
  },
  {
   "cell_type": "code",
   "execution_count": 18,
   "id": "0a50d0b5-e922-40c5-aa18-328ae6d39c6e",
   "metadata": {},
   "outputs": [],
   "source": [
    "def activity10():\n",
    "    emoji_counts = []\n",
    "    \n",
    "    for emoji in unique_emojis:\n",
    "        emoji_count = 0\n",
    "        for reaction in reactions:\n",
    "            emoji_count += reaction[2].count(emoji)\n",
    "        emoji_counts.append([emoji, emoji_count])\n",
    "    \n",
    "    most_frequent_emoji = max(emoji_counts, key=lambda x: x[1])\n",
    "    \n",
    "    print(f\"Most frequently used emoji: {most_frequent_emoji[0]}\")\n"
   ]
  },
  {
   "cell_type": "markdown",
   "id": "766c3ed2-0cb1-4be6-95fc-ea694d52887a",
   "metadata": {},
   "source": [
    "### Activity 11: Count the total number of different people who have made reactions."
   ]
  },
  {
   "cell_type": "code",
   "execution_count": 20,
   "id": "be27e18f-211a-4184-a1d3-22f3fcfd286e",
   "metadata": {},
   "outputs": [
    {
     "name": "stdout",
     "output_type": "stream",
     "text": [
      "Total number of different people who reacted: 0\n"
     ]
    }
   ],
   "source": [
    "people = []\n",
    "\n",
    "for reaction in reactions:\n",
    "    if reaction[0] not in people:\n",
    "        people.append(reaction[0])\n",
    "\n",
    "print(f\"Total number of different people who reacted: {len(people)}\")\n"
   ]
  },
  {
   "cell_type": "markdown",
   "id": "8b4574f5-e4cc-4d5f-b7a8-4b88f0443051",
   "metadata": {},
   "source": [
    "### Activity 12: Count How Many Messages Were Reacted to with a Specific Emoji"
   ]
  },
  {
   "cell_type": "code",
   "execution_count": 21,
   "id": "82891852-49c1-4d68-b462-bb23ddc9aea6",
   "metadata": {},
   "outputs": [
    {
     "name": "stdout",
     "output_type": "stream",
     "text": [
      "Number of messages reacted to with the 😂 emoji: 0\n"
     ]
    }
   ],
   "source": [
    "message_reaction_list = []\n",
    "\n",
    "for reaction in reactions:\n",
    "    message = reaction[1]\n",
    "    emoji_list = reaction[2]\n",
    "\n",
    "    message_found = False\n",
    "\n",
    "    for element in message_reaction_list:\n",
    "        if element[0] == message:\n",
    "            for emoji in emoji_list:\n",
    "                if emoji not in element[1]:\n",
    "                    element[1].append(emoji)\n",
    "            message_found = True\n",
    "            break\n",
    "\n",
    "    if not message_found:\n",
    "        message_reaction_list.append([message, emoji_list])\n",
    "\n",
    "messages_reacted_to_with_emoji = 0\n",
    "\n",
    "for message_and_reactions in message_reaction_list:\n",
    "    if '😂' in message_and_reactions[1]:\n",
    "        messages_reacted_to_with_emoji += 1\n",
    "\n",
    "print(f\"Number of messages reacted to with the 😂 emoji: {messages_reacted_to_with_emoji}\")\n"
   ]
  },
  {
   "cell_type": "markdown",
   "id": "5d15e057-1f03-42cb-a258-f7a8d16322b9",
   "metadata": {},
   "source": [
    "### Activity 13: Find and list all messages that have exactly one emoji reaction."
   ]
  },
  {
   "cell_type": "code",
   "execution_count": 22,
   "id": "e006b3eb-3862-4f4b-8f39-0539f6949071",
   "metadata": {},
   "outputs": [
    {
     "name": "stdout",
     "output_type": "stream",
     "text": [
      "Messages with only one reaction: []\n"
     ]
    }
   ],
   "source": [
    "messages_with_one_reaction = []\n",
    "for message_and_reactions in message_reaction_count:\n",
    "    message = message_and_reactions[0]\n",
    "    reaction_count = message_and_reactions[1]\n",
    "    if reaction_count == 1 and message not in messages_with_one_reaction:\n",
    "        messages_with_one_reaction.append(message)\n",
    "\n",
    "messages_with_one_reaction.sort()\n",
    "print(f\"Messages with only one reaction: {messages_with_one_reaction}\")\n"
   ]
  },
  {
   "cell_type": "code",
   "execution_count": null,
   "id": "de19cfdd-8c25-4d67-b5f0-ff82cdfed555",
   "metadata": {},
   "outputs": [],
   "source": []
  }
 ],
 "metadata": {
  "kernelspec": {
   "display_name": "Python 3 (ipykernel)",
   "language": "python",
   "name": "python3"
  },
  "language_info": {
   "codemirror_mode": {
    "name": "ipython",
    "version": 3
   },
   "file_extension": ".py",
   "mimetype": "text/x-python",
   "name": "python",
   "nbconvert_exporter": "python",
   "pygments_lexer": "ipython3",
   "version": "3.12.8"
  }
 },
 "nbformat": 4,
 "nbformat_minor": 5
}
